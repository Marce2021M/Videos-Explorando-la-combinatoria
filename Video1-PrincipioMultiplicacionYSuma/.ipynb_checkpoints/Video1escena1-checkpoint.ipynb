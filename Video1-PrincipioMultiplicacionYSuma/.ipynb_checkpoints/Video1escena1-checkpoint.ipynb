{
 "cells": [
  {
   "cell_type": "code",
   "execution_count": 2,
   "metadata": {},
   "outputs": [
    {
     "data": {
      "text/html": [
       "<pre style=\"white-space:pre;overflow-x:auto;line-height:normal;font-family:Menlo,'DejaVu Sans Mono',consolas,'Courier New',monospace\">Manim Community <span style=\"color: #008000; text-decoration-color: #008000\">v0.17.3</span>\n",
       "\n",
       "</pre>\n"
      ],
      "text/plain": [
       "Manim Community \u001b[32mv0.\u001b[0m\u001b[32m17.3\u001b[0m\n",
       "\n"
      ]
     },
     "metadata": {},
     "output_type": "display_data"
    }
   ],
   "source": [
    "from manim import *\n",
    "import networkx as nx\n",
    "import numpy as np"
   ]
  },
  {
   "cell_type": "code",
   "execution_count": 3,
   "metadata": {},
   "outputs": [
    {
     "name": "stderr",
     "output_type": "stream",
     "text": [
      "                                                                                                                       \r"
     ]
    },
    {
     "data": {
      "text/html": [
       "<video src=\"media\\jupyter\\video1escena1@2023-11-13@12-34-53.mp4\" controls autoplay loop style=\"max-width: 60%;\"  >\n",
       "      Your browser does not support the <code>video</code> element.\n",
       "    </video>"
      ],
      "text/plain": [
       "<IPython.core.display.Video object>"
      ]
     },
     "metadata": {},
     "output_type": "display_data"
    }
   ],
   "source": [
    "%%manim -qm -v WARNING video1escena1\n",
    "\n",
    "class video1escena1(Scene):\n",
    "    def construct(self):\n",
    "        \n",
    "        cuartoVacio = SVGMobject(\"closet Vacio.svg\").move_to([0,0,0]).scale(3.6)\n",
    "        self.add(cuartoVacio)\n",
    "        self.wait(.2)\n",
    "        #cuartoArticulos = SVGMobject(\"closetArticulos.svg\").move_to([0,.5,0]).scale(2.6)\n",
    "        cuartoArticulos = SVGMobject(\"closet.svg\").move_to([0,0,0]).scale(3.6)\n",
    "        self.play(Write(cuartoArticulos), run_time = 3.7)\n",
    "        self.wait(.3)\n",
    "        chica = SVGMobject(\"chicaRopa.svg\").move_to([0,-.3,0])\n",
    "        chica.scale(3)\n",
    "        self.play(FadeIn(chica), run_time = .3)\n",
    "        self.wait(.7)\n",
    "\n",
    "        chicaR = SVGMobject(\"chicaRopaSosteniendoRopa.svg\").move_to([-.475,-.3,0])\n",
    "        chicaR.scale(3)\n",
    "        self.add(chicaR)\n",
    "        preg = Tex(\"¿Cuántas combinaciones se pueden hacer si tengo tales prendas o tales colores?\").scale(.7).move_to([0,3,0])\n",
    "        self.play(Write(preg), run_time = 3)\n",
    "\n",
    "        self.wait(.5)\n",
    "        self.clear()\n",
    "        \n",
    "        board = SVGMobject(\"board.svg\").scale(3.6).move_to([0,0,0])\n",
    "        self.add(board)\n",
    "        reglas = Tex(\"Existen 2 reglas:\" , color = BLACK).scale(1.7).move_to([-1,2.5,0])\n",
    "        self.play(Write(reglas))\n",
    "        \n",
    "        green_circle = Circle().set_opacity(1).scale(.6).set_color(PURE_GREEN).move_to([-5,-2,0])\n",
    "        blue_circle = Circle().set_opacity(1).scale(.6).set_color(PURE_BLUE).move_to([-3,-2,0])\n",
    "        red_circle = Circle().set_opacity(1).scale(.6).set_color(PURE_RED).move_to([-1,-2,0])\n",
    "        \n",
    "        green_t = Triangle().set_opacity(1).scale(.6).set_color(PURE_GREEN).move_to([1,-2,0])\n",
    "        blue_t = Triangle().set_opacity(1).scale(.6).set_color(PURE_BLUE).move_to([3,-2,0])\n",
    "        red_t= Triangle().set_opacity(1).scale(.6).set_color(PURE_RED).move_to([5,-2,0])\n",
    "        self.play(FadeIn(green_circle), FadeIn(blue_circle),FadeIn(red_circle), \n",
    "                  FadeIn(green_t),FadeIn(blue_t), FadeIn(red_t), run_time = 2)\n",
    "        \n",
    "        regla1 = Tex(\"-Principio de la suma\" , color = BLACK).scale(1.4).move_to([-1.45,1.2,0])\n",
    "        self.play(Write(regla1), run_time = 1.13)\n",
    "        regla2 = Tex(\"-Principio de la multiplicación\" , color = BLACK).scale(1.4).move_to([-.1,.2,0])\n",
    "        self.play(Write(regla2), run_time = 1.4)\n",
    "        \n",
    "        self.wait(.5)\n",
    "        self.clear()\n",
    "        self.wait(.1)\n",
    "\n",
    "        \n",
    "        \n"
   ]
  },
  {
   "cell_type": "code",
   "execution_count": 3,
   "metadata": {},
   "outputs": [
    {
     "name": "stderr",
     "output_type": "stream",
     "text": [
      "                                                                                                                       \r"
     ]
    },
    {
     "data": {
      "text/html": [
       "<video src=\"media\\jupyter\\video1escena6@2023-11-13@10-49-13.mp4\" controls autoplay loop style=\"max-width: 60%;\"  >\n",
       "      Your browser does not support the <code>video</code> element.\n",
       "    </video>"
      ],
      "text/plain": [
       "<IPython.core.display.Video object>"
      ]
     },
     "metadata": {},
     "output_type": "display_data"
    }
   ],
   "source": [
    "%%manim -qm -v WARNING video1escena6\n",
    "\n",
    "class video1escena6(Scene):\n",
    "    def construct(self):\n",
    "        board = SVGMobject(\"board.svg\").scale(3.6).move_to([0,0,0])\n",
    "        self.add(board)\n",
    "        reglaProdText = Tex(\"Principio del Producto\", color = BLACK).scale(1.7)\n",
    "        reglaProdText.move_to([-1,2.5,0])\n",
    "        \n",
    "        eventAText = Tex(\"Evento A:\", color = BLACK).scale(1.2).move_to([-3.5,1.2,0])\n",
    "        eventAmanText = Tex(\"m opciones\", color = BLACK).scale(1.2).next_to(eventAText, RIGHT)\n",
    "        \n",
    "        eventBText = Tex(\"Evento B:\", color = BLACK).scale(1.2).next_to(eventAText, 2 * DOWN)\n",
    "        eventBmanText = Tex(\"n opciones\", color = BLACK).scale(1.2).next_to(eventBText, RIGHT)\n",
    "        \n",
    "        eventAyBText = Tex(r\"Evento A\\\\ y \\\\ Evento B\", color = BLACK).scale(1.2).next_to(eventBText, 3 * DOWN)\n",
    "        eventAyBmanText = Tex(\": m * n opciones\", color = BLACK).scale(1.2).next_to(eventAyBText, RIGHT)\n",
    "        \n",
    "        self.play(Write(reglaProdText), run_time = 1)\n",
    "        self.play(Write(eventAText), run_time = 1)\n",
    "        self.play(Write(eventAmanText), run_time = 2.5)\n",
    "        self.play(Write(eventBText), run_time = 1)\n",
    "        self.play(Write(eventBmanText), run_time = 2.5)\n",
    "        self.play(Write(eventAyBText), run_time = 2.2)\n",
    "        self.play(Write(eventAyBmanText), run_time = 2.7)\n",
    "        self.wait(1)"
   ]
  },
  {
   "cell_type": "code",
   "execution_count": 4,
   "metadata": {},
   "outputs": [
    {
     "name": "stderr",
     "output_type": "stream",
     "text": [
      "                                                                                                                       \r"
     ]
    },
    {
     "data": {
      "text/html": [
       "<video src=\"media\\jupyter\\video1escena10@2023-11-13@10-49-29.mp4\" controls autoplay loop style=\"max-width: 60%;\"  >\n",
       "      Your browser does not support the <code>video</code> element.\n",
       "    </video>"
      ],
      "text/plain": [
       "<IPython.core.display.Video object>"
      ]
     },
     "metadata": {},
     "output_type": "display_data"
    }
   ],
   "source": [
    "%%manim -qm -v WARNING video1escena10\n",
    "\n",
    "class video1escena10(Scene):\n",
    "    def construct(self):\n",
    "        board = SVGMobject(\"board.svg\").scale(3.6).move_to([0,0,0])\n",
    "        self.add(board)\n",
    "        reglaSumaText = Tex(\"Principio de la Suma\", color = BLACK).scale(1.7)\n",
    "        reglaSumaText.move_to([-1.3,2.5,0])\n",
    "        \n",
    "        eventAText = Tex(\"Evento A:\", color = BLACK).scale(1.2).move_to([-3.5,1.2,0])\n",
    "        eventAmanText = Tex(\"m opciones\",color = BLACK).scale(1.2).next_to(eventAText, RIGHT)\n",
    "        \n",
    "        eventBText = Tex(\"Evento B:\", color = BLACK).scale(1.2).next_to(eventAText, 2 * DOWN)\n",
    "        eventBmanText = Tex(\"n opciones\", color = BLACK).scale(1.2).next_to(eventBText, RIGHT)\n",
    "        \n",
    "        eventAoBText = Tex(r\"Evento A\\\\ o \\\\ Evento B\", color = BLACK).scale(1.2).next_to(eventBText, 3 * DOWN)\n",
    "        eventAoBmanText = Tex(\": m + n opciones\", color = BLACK).scale(1.2).next_to(eventAoBText, RIGHT)\n",
    "        \n",
    "        self.play(Write(reglaSumaText), run_time = 1)\n",
    "        self.play(Write(eventAText), run_time = 1)\n",
    "        self.play(Write(eventAmanText), run_time = 2.5)\n",
    "        self.play(Write(eventBText), run_time = 1)\n",
    "        self.play(Write(eventBmanText), run_time = 2.5)\n",
    "        self.play(Write(eventAoBText), run_time = 2.2)\n",
    "        self.play(Write(eventAoBmanText), run_time = 2.7)\n",
    "        self.wait(1)"
   ]
  },
  {
   "cell_type": "code",
   "execution_count": null,
   "metadata": {},
   "outputs": [],
   "source": []
  }
 ],
 "metadata": {
  "kernelspec": {
   "display_name": "Python 3 (ipykernel)",
   "language": "python",
   "name": "python3"
  },
  "language_info": {
   "codemirror_mode": {
    "name": "ipython",
    "version": 3
   },
   "file_extension": ".py",
   "mimetype": "text/x-python",
   "name": "python",
   "nbconvert_exporter": "python",
   "pygments_lexer": "ipython3",
   "version": "3.9.12"
  }
 },
 "nbformat": 4,
 "nbformat_minor": 2
}
