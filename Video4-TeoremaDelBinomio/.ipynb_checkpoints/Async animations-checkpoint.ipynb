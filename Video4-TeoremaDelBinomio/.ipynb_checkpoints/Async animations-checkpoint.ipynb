{
 "cells": [
  {
   "cell_type": "code",
   "execution_count": 2,
   "metadata": {},
   "outputs": [],
   "source": [
    "from manim import *\n",
    "import networkx as nx\n",
    "import numpy as np\n",
    "import math\n",
    "import copy\n",
    "from itertools import permutations\n"
   ]
  },
  {
   "cell_type": "code",
   "execution_count": 8,
   "metadata": {},
   "outputs": [
    {
     "name": "stderr",
     "output_type": "stream",
     "text": [
      "                                                                                                                       \r"
     ]
    },
    {
     "data": {
      "text/html": [
       "<video src=\"media\\jupyter\\LaggedStartExample@2024-01-23@17-23-42.mp4\" controls autoplay loop style=\"max-width: 60%;\"  >\n",
       "      Your browser does not support the <code>video</code> element.\n",
       "    </video>"
      ],
      "text/plain": [
       "<IPython.core.display.Video object>"
      ]
     },
     "metadata": {},
     "output_type": "display_data"
    }
   ],
   "source": [
    "%%manim -qh -v WARNING LaggedStartExample\n",
    "\n",
    "class LaggedStartExample(Scene):\n",
    "    def construct(self):\n",
    "\n",
    "        \n",
    "        title = Text(\"lag_ratio = 0.25\").to_edge(UP)\n",
    "\n",
    "        dot1 = Dot(point=LEFT * 2 + UP, radius=0.16)\n",
    "        dot2 = Dot(point=LEFT * 2, radius=0.16)\n",
    "        dot3 = Dot(point=LEFT * 2 + DOWN, radius=0.16)\n",
    "        line_25 = DashedLine(\n",
    "            start=LEFT + UP * 2,\n",
    "            end=LEFT + DOWN * 2,\n",
    "            color=RED\n",
    "        )\n",
    "        label = Text(\"25%\", font_size=24).next_to(line_25, UP)\n",
    "        self.add(title, dot1, dot2, dot3, line_25, label)\n",
    "\n",
    "        self.play(LaggedStart(\n",
    "            dot1.animate.shift(RIGHT * 4),\n",
    "            dot2.animate.shift(RIGHT * 4),\n",
    "            dot3.animate.shift(RIGHT * 4),\n",
    "            lag_ratio=1.5,\n",
    "            run_time=4\n",
    "        ))"
   ]
  },
  {
   "cell_type": "markdown",
   "metadata": {},
   "source": [
    "https://docs.manim.community/en/stable/reference/manim.animation.composition.LaggedStart.html\n",
    "\n",
    "https://docs.manim.community/en/stable/reference/manim.animation.composition.LaggedStartMap.html\n"
   ]
  },
  {
   "cell_type": "markdown",
   "metadata": {},
   "source": [
    "Succession\n",
    "\n",
    "Das una lista de movimientos. Se hace el siguiente movimiento, una vez terminado el anterior. "
   ]
  },
  {
   "cell_type": "code",
   "execution_count": 10,
   "metadata": {
    "scrolled": true
   },
   "outputs": [
    {
     "name": "stderr",
     "output_type": "stream",
     "text": [
      "                                                                                                                       \r"
     ]
    },
    {
     "data": {
      "text/html": [
       "<video src=\"media\\jupyter\\SuccessionExample@2024-01-23@17-24-12.mp4\" controls autoplay loop style=\"max-width: 60%;\"  >\n",
       "      Your browser does not support the <code>video</code> element.\n",
       "    </video>"
      ],
      "text/plain": [
       "<IPython.core.display.Video object>"
      ]
     },
     "metadata": {},
     "output_type": "display_data"
    }
   ],
   "source": [
    "%%manim -qh -v WARNING SuccessionExample\n",
    "\n",
    "class SuccessionExample(Scene):\n",
    "    def construct(self):\n",
    "        dot1 = Dot(point=LEFT * 2 + UP * 2, radius=0.16, color=BLUE)\n",
    "        dot2 = Dot(point=LEFT * 2 + DOWN * 2, radius=0.16, color=MAROON)\n",
    "        dot3 = Dot(point=RIGHT * 2 + DOWN * 2, radius=0.16, color=GREEN)\n",
    "        dot4 = Dot(point=RIGHT * 2 + UP * 2, radius=0.16, color=YELLOW)\n",
    "        self.add(dot1, dot2, dot3, dot4)\n",
    "\n",
    "        self.play(Succession(\n",
    "            dot1.animate.move_to(dot2),\n",
    "            dot2.animate.move_to(dot3),\n",
    "            dot3.animate.move_to(dot4),\n",
    "            dot4.animate.move_to(dot1)\n",
    "        ))"
   ]
  },
  {
   "cell_type": "markdown",
   "metadata": {},
   "source": [
    "TracePath\n",
    "\n",
    "https://docs.manim.community/en/stable/reference/manim.animation.changing.TracedPath.html\n"
   ]
  },
  {
   "cell_type": "code",
   "execution_count": 12,
   "metadata": {},
   "outputs": [
    {
     "name": "stderr",
     "output_type": "stream",
     "text": [
      "                                                                                                                       \r"
     ]
    },
    {
     "data": {
      "text/html": [
       "<video src=\"media\\jupyter\\RotatingExample@2024-01-23@17-33-03.mp4\" controls autoplay loop style=\"max-width: 60%;\"  >\n",
       "      Your browser does not support the <code>video</code> element.\n",
       "    </video>"
      ],
      "text/plain": [
       "<IPython.core.display.Video object>"
      ]
     },
     "metadata": {},
     "output_type": "display_data"
    }
   ],
   "source": [
    "%%manim -qh -v WARNING RotatingExample\n",
    "\n",
    "class RotatingExample(Scene):\n",
    "    def construct(self):\n",
    "        # Create a square\n",
    "        square = Square()\n",
    "\n",
    "        # Show the original square\n",
    "        self.play(Create(square))\n",
    "\n",
    "        # Rotate the square by 90 degrees around the z-axis (OUT)\n",
    "        self.play(Rotating(square, angle=90 * DEGREES))\n",
    "\n",
    "        # Rotate the square by 90 degrees around the y-axis (UP)\n",
    "        self.play(Rotating(square, angle=90 * DEGREES, axis=UP))\n",
    "\n",
    "        self.wait(1)"
   ]
  },
  {
   "cell_type": "code",
   "execution_count": 17,
   "metadata": {},
   "outputs": [
    {
     "name": "stderr",
     "output_type": "stream",
     "text": [
      "                                                                                                                       \r"
     ]
    },
    {
     "data": {
      "text/html": [
       "<video src=\"media\\jupyter\\RotatingExample@2024-01-23@17-40-11.mp4\" controls autoplay loop style=\"max-width: 60%;\"  >\n",
       "      Your browser does not support the <code>video</code> element.\n",
       "    </video>"
      ],
      "text/plain": [
       "<IPython.core.display.Video object>"
      ]
     },
     "metadata": {},
     "output_type": "display_data"
    }
   ],
   "source": [
    "%%manim -qh -v WARNING RotatingExample\n",
    "\n",
    "class RotatingExample(Scene):\n",
    "    def construct(self):\n",
    "        square = Square()\n",
    "\n",
    "        # Rotate the square by 90 degrees around the z-axis (OUT) over 10 seconds\n",
    "        rotating_animation = Rotating(square, angle=90 * DEGREES, run_time=10)\n",
    "\n",
    "        # Create a 2-second wait animation\n",
    "        wait_animation = Wait(2)\n",
    "\n",
    "        # Create another animation (e.g., scaling a circle)\n",
    "        circle = Circle()\n",
    "        scaling_animation = ScaleInPlace(circle, scale_factor=2, run_time=5)\n",
    "\n",
    "        # Run the rotating animation, wait for 2 seconds, and then run the scaling animation\n",
    "        self.play(rotating_animation, Succession(wait_animation, scaling_animation))\n",
    "\n",
    "        self.wait(1)\n"
   ]
  },
  {
   "cell_type": "code",
   "execution_count": null,
   "metadata": {},
   "outputs": [],
   "source": []
  }
 ],
 "metadata": {
  "kernelspec": {
   "display_name": "Python 3",
   "language": "python",
   "name": "python3"
  },
  "language_info": {
   "codemirror_mode": {
    "name": "ipython",
    "version": 3
   },
   "file_extension": ".py",
   "mimetype": "text/x-python",
   "name": "python",
   "nbconvert_exporter": "python",
   "pygments_lexer": "ipython3",
   "version": "3.7.3"
  }
 },
 "nbformat": 4,
 "nbformat_minor": 2
}
