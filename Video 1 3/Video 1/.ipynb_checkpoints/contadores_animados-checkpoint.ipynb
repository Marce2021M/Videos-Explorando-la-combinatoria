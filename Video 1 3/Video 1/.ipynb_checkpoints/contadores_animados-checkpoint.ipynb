{
 "cells": [
  {
   "cell_type": "code",
   "execution_count": 1,
   "metadata": {},
   "outputs": [
    {
     "data": {
      "text/html": [
       "<pre style=\"white-space:pre;overflow-x:auto;line-height:normal;font-family:Menlo,'DejaVu Sans Mono',consolas,'Courier New',monospace\">Manim Community <span style=\"color: #008000; text-decoration-color: #008000\">v0.17.3</span>\n",
       "\n",
       "</pre>\n"
      ],
      "text/plain": [
       "Manim Community \u001b[32mv0.\u001b[0m\u001b[32m17.3\u001b[0m\n",
       "\n"
      ]
     },
     "metadata": {},
     "output_type": "display_data"
    }
   ],
   "source": [
    "from manim import *\n",
    "import networkx as nx\n",
    "import numpy as np\n",
    "import math"
   ]
  },
  {
   "cell_type": "code",
   "execution_count": 2,
   "metadata": {},
   "outputs": [],
   "source": [
    "def contador_comb(self,arbol_niveles, dire, escala):\n",
    "    i = len(arbol_niveles)\n",
    "    j = 1\n",
    "    for coor in arbol_niveles[i-1]:\n",
    "        num = Integer(number=j).scale(escala)\n",
    "        num.next_to(coor, dire)\n",
    "        self.play(FadeIn(num),run_time=.2)\n",
    "        j += 1\n",
    "    "
   ]
  },
  {
   "cell_type": "code",
   "execution_count": 3,
   "metadata": {},
   "outputs": [],
   "source": [
    "def contador_comb_compl(self,arbol_niveles, dire, escala):\n",
    "    i = len(arbol_niveles)\n",
    "    j = 1\n",
    "    for coor in reversed(arbol_niveles[i - 1]):\n",
    "        num = Integer(number = j).scale(escala)\n",
    "        num.next_to(coor, dire)\n",
    "        self.play(FadeIn(num), run_time=0.2)\n",
    "        j += 1"
   ]
  },
  {
   "cell_type": "code",
   "execution_count": 4,
   "metadata": {},
   "outputs": [],
   "source": [
    "def contador_comb_tabla(self, tabla, tipos_1, tipos_2):\n",
    "    j = 1\n",
    "    angulo_grados = 22  # El ángulo deseado en grados\n",
    "    angulo_radianes = math.radians(angulo_grados)\n",
    "    x_offset = math.cos(angulo_radianes)\n",
    "    y_offset = math.sin(angulo_radianes)\n",
    "    number = VGroup()\n",
    "    sc = .6\n",
    "    for row_index in range(1, len(tipos_1)):\n",
    "        for col_index in range(1, len(tipos_2)):\n",
    "            if j > 9:\n",
    "                angle_in_degrees = 26  # El ángulo deseado en grados\n",
    "                angle_in_radians = math.radians(angulo_grados)\n",
    "                x_offset = math.cos(angulo_radianes)\n",
    "                y_offset = math.sin(angulo_radianes)\n",
    "                sc = .5\n",
    "            cell = tabla.get_cell((row_index + 1, col_index + 1))\n",
    "            cell_location = cell.get_center()\n",
    "            num = Integer(number=j).scale(sc)\n",
    "            num.next_to(cell_location,  x_offset * RIGHT + y_offset * UP, buff=1.2)\n",
    "            number.add(num)\n",
    "            j += 1\n",
    "    return number"
   ]
  }
 ],
 "metadata": {
  "kernelspec": {
   "display_name": "Python 3",
   "language": "python",
   "name": "python3"
  },
  "language_info": {
   "codemirror_mode": {
    "name": "ipython",
    "version": 3
   },
   "file_extension": ".py",
   "mimetype": "text/x-python",
   "name": "python",
   "nbconvert_exporter": "python",
   "pygments_lexer": "ipython3",
   "version": "3.7.3"
  }
 },
 "nbformat": 4,
 "nbformat_minor": 5
}
