{
 "cells": [
  {
   "cell_type": "code",
   "execution_count": 1,
   "metadata": {},
   "outputs": [
    {
     "data": {
      "text/html": [
       "<pre style=\"white-space:pre;overflow-x:auto;line-height:normal;font-family:Menlo,'DejaVu Sans Mono',consolas,'Courier New',monospace\">Manim Community <span style=\"color: #008000; text-decoration-color: #008000\">v0.16.0.post0</span>\n",
       "\n",
       "</pre>\n"
      ],
      "text/plain": [
       "Manim Community \u001b[32mv0.\u001b[0m\u001b[32m16.0\u001b[0m\u001b[32m.post0\u001b[0m\n",
       "\n"
      ]
     },
     "metadata": {},
     "output_type": "display_data"
    }
   ],
   "source": [
    "from manim import *\n",
    "import networkx as nx\n",
    "import numpy as np"
   ]
  },
  {
   "cell_type": "code",
   "execution_count": 2,
   "metadata": {},
   "outputs": [
    {
     "ename": "ValueError",
     "evalue": "invalid literal for int() with base 10: '0.5'",
     "output_type": "error",
     "traceback": [
      "\u001b[1;31m---------------------------------------------------------------------------\u001b[0m",
      "\u001b[1;31mValueError\u001b[0m                                Traceback (most recent call last)",
      "\u001b[1;32m<ipython-input-2-f374fd03bd7a>\u001b[0m in \u001b[0;36m<module>\u001b[1;34m\u001b[0m\n\u001b[1;32m----> 1\u001b[1;33m \u001b[0mget_ipython\u001b[0m\u001b[1;33m(\u001b[0m\u001b[1;33m)\u001b[0m\u001b[1;33m.\u001b[0m\u001b[0mrun_cell_magic\u001b[0m\u001b[1;33m(\u001b[0m\u001b[1;34m'manim'\u001b[0m\u001b[1;33m,\u001b[0m \u001b[1;34m'-qm -v WARNING SVGExample1'\u001b[0m\u001b[1;33m,\u001b[0m \u001b[1;34m'\\nclass SVGExample1(Scene):\\n    def construct(self):\\n        \\n        cuartoVacio = SVGMobject(\"ropa/closet Vacio.svg\").move_to([0,0,0]).scale(3.6)\\n        self.add(cuartoVacio)\\n        self.wait(.2)\\n        #cuartoArticulos = SVGMobject(\"closetArticulos.svg\").move_to([0,.5,0]).scale(2.6)\\n        cuartoArticulos = SVGMobject(\"ropa/closet.svg\").move_to([0,0,0]).scale(3.6)\\n        self.play(Write(cuartoArticulos), run_time = 4)\\n        self.wait(.5)\\n        chica = SVGMobject(\"ropa/chicaRopa.svg\").move_to([0,-.3,0])\\n        chica.scale(3)\\n        self.play(FadeIn(chica))\\n        self.wait(1)\\n\\n        chicaR = SVGMobject(\"ropa/chicaRopaSosteniendoRopa.svg\").move_to([-.475,-.3,0])\\n        chicaR.scale(3)\\n        self.add(chicaR)\\n        preg = Tex(\"¿Cuántas combinaciones se pueden hacer si tengo tales prendas o tales colores?\").scale(.7).move_to([0,3,0])\\n        self.play(Write(preg))\\n\\n        self.wait(.5)\\n        self.clear()\\n        \\n        board = SVGMobject(\"board.svg\").scale(3.6).move_to([0,0,0])\\n        self.add(board)\\n        reglas = Tex(\"Existen 2 reglas:\" , color = BLACK).scale(1.7).move_to([-1,2.5,0])\\n        self.play(Write(reglas))\\n        \\n        green_circle = Circle().set_opacity(1).scale(.6).set_color(PURE_GREEN).move_to([-5,-2,0])\\n        blue_circle = Circle().set_opacity(1).scale(.6).set_color(PURE_BLUE).move_to([-3,-2,0])\\n        red_circle = Circle().set_opacity(1).scale(.6).set_color(PURE_RED).move_to([-1,-2,0])\\n        \\n        green_t = Triangle().set_opacity(1).scale(.6).set_color(PURE_GREEN).move_to([1,-2,0])\\n        blue_t = Triangle().set_opacity(1).scale(.6).set_color(PURE_BLUE).move_to([3,-2,0])\\n        red_t= Triangle().set_opacity(1).scale(.6).set_color(PURE_RED).move_to([5,-2,0])\\n        self.play(FadeIn(green_circle), FadeIn(blue_circle),FadeIn(red_circle), \\n                  FadeIn(green_t),FadeIn(blue_t), FadeIn(red_t), run_time = 2)\\n        \\n        regla1 = Tex(\"-Principio de la suma\" , color = BLACK).scale(1.4).move_to([-1.45,1.2,0])\\n        self.play(Write(regla1), run_time = 1.13)\\n        regla2 = Tex(\"-Principio de la multiplicación\" , color = BLACK).scale(1.4).move_to([-.1,.2,0])\\n        self.play(Write(regla2), run_time = 1.8)\\n        \\n        self.wait(.5)\\n        self.clear()\\n        self.wait(.5)\\n\\n\\n        \\n        \\n'\u001b[0m\u001b[1;33m)\u001b[0m\u001b[1;33m\u001b[0m\u001b[1;33m\u001b[0m\u001b[0m\n\u001b[0m",
      "\u001b[1;32m~\\Anaconda3\\lib\\site-packages\\IPython\\core\\interactiveshell.py\u001b[0m in \u001b[0;36mrun_cell_magic\u001b[1;34m(self, magic_name, line, cell)\u001b[0m\n\u001b[0;32m   2471\u001b[0m             \u001b[1;32mwith\u001b[0m \u001b[0mself\u001b[0m\u001b[1;33m.\u001b[0m\u001b[0mbuiltin_trap\u001b[0m\u001b[1;33m:\u001b[0m\u001b[1;33m\u001b[0m\u001b[1;33m\u001b[0m\u001b[0m\n\u001b[0;32m   2472\u001b[0m                 \u001b[0margs\u001b[0m \u001b[1;33m=\u001b[0m \u001b[1;33m(\u001b[0m\u001b[0mmagic_arg_s\u001b[0m\u001b[1;33m,\u001b[0m \u001b[0mcell\u001b[0m\u001b[1;33m)\u001b[0m\u001b[1;33m\u001b[0m\u001b[1;33m\u001b[0m\u001b[0m\n\u001b[1;32m-> 2473\u001b[1;33m                 \u001b[0mresult\u001b[0m \u001b[1;33m=\u001b[0m \u001b[0mfn\u001b[0m\u001b[1;33m(\u001b[0m\u001b[1;33m*\u001b[0m\u001b[0margs\u001b[0m\u001b[1;33m,\u001b[0m \u001b[1;33m**\u001b[0m\u001b[0mkwargs\u001b[0m\u001b[1;33m)\u001b[0m\u001b[1;33m\u001b[0m\u001b[1;33m\u001b[0m\u001b[0m\n\u001b[0m\u001b[0;32m   2474\u001b[0m             \u001b[1;32mreturn\u001b[0m \u001b[0mresult\u001b[0m\u001b[1;33m\u001b[0m\u001b[1;33m\u001b[0m\u001b[0m\n\u001b[0;32m   2475\u001b[0m \u001b[1;33m\u001b[0m\u001b[0m\n",
      "\u001b[1;32m~\\Anaconda3\\lib\\site-packages\\decorator.py\u001b[0m in \u001b[0;36mfun\u001b[1;34m(*args, **kw)\u001b[0m\n\u001b[0;32m    230\u001b[0m             \u001b[1;32mif\u001b[0m \u001b[1;32mnot\u001b[0m \u001b[0mkwsyntax\u001b[0m\u001b[1;33m:\u001b[0m\u001b[1;33m\u001b[0m\u001b[1;33m\u001b[0m\u001b[0m\n\u001b[0;32m    231\u001b[0m                 \u001b[0margs\u001b[0m\u001b[1;33m,\u001b[0m \u001b[0mkw\u001b[0m \u001b[1;33m=\u001b[0m \u001b[0mfix\u001b[0m\u001b[1;33m(\u001b[0m\u001b[0margs\u001b[0m\u001b[1;33m,\u001b[0m \u001b[0mkw\u001b[0m\u001b[1;33m,\u001b[0m \u001b[0msig\u001b[0m\u001b[1;33m)\u001b[0m\u001b[1;33m\u001b[0m\u001b[1;33m\u001b[0m\u001b[0m\n\u001b[1;32m--> 232\u001b[1;33m             \u001b[1;32mreturn\u001b[0m \u001b[0mcaller\u001b[0m\u001b[1;33m(\u001b[0m\u001b[0mfunc\u001b[0m\u001b[1;33m,\u001b[0m \u001b[1;33m*\u001b[0m\u001b[1;33m(\u001b[0m\u001b[0mextras\u001b[0m \u001b[1;33m+\u001b[0m \u001b[0margs\u001b[0m\u001b[1;33m)\u001b[0m\u001b[1;33m,\u001b[0m \u001b[1;33m**\u001b[0m\u001b[0mkw\u001b[0m\u001b[1;33m)\u001b[0m\u001b[1;33m\u001b[0m\u001b[1;33m\u001b[0m\u001b[0m\n\u001b[0m\u001b[0;32m    233\u001b[0m     \u001b[0mfun\u001b[0m\u001b[1;33m.\u001b[0m\u001b[0m__name__\u001b[0m \u001b[1;33m=\u001b[0m \u001b[0mfunc\u001b[0m\u001b[1;33m.\u001b[0m\u001b[0m__name__\u001b[0m\u001b[1;33m\u001b[0m\u001b[1;33m\u001b[0m\u001b[0m\n\u001b[0;32m    234\u001b[0m     \u001b[0mfun\u001b[0m\u001b[1;33m.\u001b[0m\u001b[0m__doc__\u001b[0m \u001b[1;33m=\u001b[0m \u001b[0mfunc\u001b[0m\u001b[1;33m.\u001b[0m\u001b[0m__doc__\u001b[0m\u001b[1;33m\u001b[0m\u001b[1;33m\u001b[0m\u001b[0m\n",
      "\u001b[1;32m~\\Anaconda3\\lib\\site-packages\\IPython\\core\\magic.py\u001b[0m in \u001b[0;36m<lambda>\u001b[1;34m(f, *a, **k)\u001b[0m\n\u001b[0;32m    185\u001b[0m     \u001b[1;31m# but it's overkill for just that one bit of state.\u001b[0m\u001b[1;33m\u001b[0m\u001b[1;33m\u001b[0m\u001b[1;33m\u001b[0m\u001b[0m\n\u001b[0;32m    186\u001b[0m     \u001b[1;32mdef\u001b[0m \u001b[0mmagic_deco\u001b[0m\u001b[1;33m(\u001b[0m\u001b[0marg\u001b[0m\u001b[1;33m)\u001b[0m\u001b[1;33m:\u001b[0m\u001b[1;33m\u001b[0m\u001b[1;33m\u001b[0m\u001b[0m\n\u001b[1;32m--> 187\u001b[1;33m         \u001b[0mcall\u001b[0m \u001b[1;33m=\u001b[0m \u001b[1;32mlambda\u001b[0m \u001b[0mf\u001b[0m\u001b[1;33m,\u001b[0m \u001b[1;33m*\u001b[0m\u001b[0ma\u001b[0m\u001b[1;33m,\u001b[0m \u001b[1;33m**\u001b[0m\u001b[0mk\u001b[0m\u001b[1;33m:\u001b[0m \u001b[0mf\u001b[0m\u001b[1;33m(\u001b[0m\u001b[1;33m*\u001b[0m\u001b[0ma\u001b[0m\u001b[1;33m,\u001b[0m \u001b[1;33m**\u001b[0m\u001b[0mk\u001b[0m\u001b[1;33m)\u001b[0m\u001b[1;33m\u001b[0m\u001b[1;33m\u001b[0m\u001b[0m\n\u001b[0m\u001b[0;32m    188\u001b[0m \u001b[1;33m\u001b[0m\u001b[0m\n\u001b[0;32m    189\u001b[0m         \u001b[1;32mif\u001b[0m \u001b[0mcallable\u001b[0m\u001b[1;33m(\u001b[0m\u001b[0marg\u001b[0m\u001b[1;33m)\u001b[0m\u001b[1;33m:\u001b[0m\u001b[1;33m\u001b[0m\u001b[1;33m\u001b[0m\u001b[0m\n",
      "\u001b[1;32m~\\Anaconda3\\lib\\site-packages\\manim\\utils\\ipython_magic.py\u001b[0m in \u001b[0;36mmanim\u001b[1;34m(self, line, cell, local_ns)\u001b[0m\n\u001b[0;32m    148\u001b[0m                     \u001b[0mSceneClass\u001b[0m \u001b[1;33m=\u001b[0m \u001b[0mlocal_ns\u001b[0m\u001b[1;33m[\u001b[0m\u001b[0mconfig\u001b[0m\u001b[1;33m[\u001b[0m\u001b[1;34m\"scene_names\"\u001b[0m\u001b[1;33m]\u001b[0m\u001b[1;33m[\u001b[0m\u001b[1;36m0\u001b[0m\u001b[1;33m]\u001b[0m\u001b[1;33m]\u001b[0m\u001b[1;33m\u001b[0m\u001b[1;33m\u001b[0m\u001b[0m\n\u001b[0;32m    149\u001b[0m                     \u001b[0mscene\u001b[0m \u001b[1;33m=\u001b[0m \u001b[0mSceneClass\u001b[0m\u001b[1;33m(\u001b[0m\u001b[0mrenderer\u001b[0m\u001b[1;33m=\u001b[0m\u001b[0mrenderer\u001b[0m\u001b[1;33m)\u001b[0m\u001b[1;33m\u001b[0m\u001b[1;33m\u001b[0m\u001b[0m\n\u001b[1;32m--> 150\u001b[1;33m                     \u001b[0mscene\u001b[0m\u001b[1;33m.\u001b[0m\u001b[0mrender\u001b[0m\u001b[1;33m(\u001b[0m\u001b[1;33m)\u001b[0m\u001b[1;33m\u001b[0m\u001b[1;33m\u001b[0m\u001b[0m\n\u001b[0m\u001b[0;32m    151\u001b[0m                 \u001b[1;32mfinally\u001b[0m\u001b[1;33m:\u001b[0m\u001b[1;33m\u001b[0m\u001b[1;33m\u001b[0m\u001b[0m\n\u001b[0;32m    152\u001b[0m                     \u001b[1;31m# Shader cache becomes invalid as the context is destroyed\u001b[0m\u001b[1;33m\u001b[0m\u001b[1;33m\u001b[0m\u001b[1;33m\u001b[0m\u001b[0m\n",
      "\u001b[1;32m~\\Anaconda3\\lib\\site-packages\\manim\\scene\\scene.py\u001b[0m in \u001b[0;36mrender\u001b[1;34m(self, preview)\u001b[0m\n\u001b[0;32m    220\u001b[0m         \u001b[0mself\u001b[0m\u001b[1;33m.\u001b[0m\u001b[0msetup\u001b[0m\u001b[1;33m(\u001b[0m\u001b[1;33m)\u001b[0m\u001b[1;33m\u001b[0m\u001b[1;33m\u001b[0m\u001b[0m\n\u001b[0;32m    221\u001b[0m         \u001b[1;32mtry\u001b[0m\u001b[1;33m:\u001b[0m\u001b[1;33m\u001b[0m\u001b[1;33m\u001b[0m\u001b[0m\n\u001b[1;32m--> 222\u001b[1;33m             \u001b[0mself\u001b[0m\u001b[1;33m.\u001b[0m\u001b[0mconstruct\u001b[0m\u001b[1;33m(\u001b[0m\u001b[1;33m)\u001b[0m\u001b[1;33m\u001b[0m\u001b[1;33m\u001b[0m\u001b[0m\n\u001b[0m\u001b[0;32m    223\u001b[0m         \u001b[1;32mexcept\u001b[0m \u001b[0mEndSceneEarlyException\u001b[0m\u001b[1;33m:\u001b[0m\u001b[1;33m\u001b[0m\u001b[1;33m\u001b[0m\u001b[0m\n\u001b[0;32m    224\u001b[0m             \u001b[1;32mpass\u001b[0m\u001b[1;33m\u001b[0m\u001b[1;33m\u001b[0m\u001b[0m\n",
      "\u001b[1;32m<string>\u001b[0m in \u001b[0;36mconstruct\u001b[1;34m(self)\u001b[0m\n",
      "\u001b[1;32m~\\Anaconda3\\lib\\site-packages\\manim\\scene\\scene.py\u001b[0m in \u001b[0;36mwait\u001b[1;34m(self, duration, stop_condition, frozen_frame)\u001b[0m\n\u001b[0;32m   1073\u001b[0m                 \u001b[0mrun_time\u001b[0m\u001b[1;33m=\u001b[0m\u001b[0mduration\u001b[0m\u001b[1;33m,\u001b[0m\u001b[1;33m\u001b[0m\u001b[1;33m\u001b[0m\u001b[0m\n\u001b[0;32m   1074\u001b[0m                 \u001b[0mstop_condition\u001b[0m\u001b[1;33m=\u001b[0m\u001b[0mstop_condition\u001b[0m\u001b[1;33m,\u001b[0m\u001b[1;33m\u001b[0m\u001b[1;33m\u001b[0m\u001b[0m\n\u001b[1;32m-> 1075\u001b[1;33m                 \u001b[0mfrozen_frame\u001b[0m\u001b[1;33m=\u001b[0m\u001b[0mfrozen_frame\u001b[0m\u001b[1;33m,\u001b[0m\u001b[1;33m\u001b[0m\u001b[1;33m\u001b[0m\u001b[0m\n\u001b[0m\u001b[0;32m   1076\u001b[0m             )\n\u001b[0;32m   1077\u001b[0m         )\n",
      "\u001b[1;32m~\\Anaconda3\\lib\\site-packages\\manim\\scene\\scene.py\u001b[0m in \u001b[0;36mplay\u001b[1;34m(self, subcaption, subcaption_duration, subcaption_offset, *args, **kwargs)\u001b[0m\n\u001b[0;32m   1028\u001b[0m \u001b[1;33m\u001b[0m\u001b[0m\n\u001b[0;32m   1029\u001b[0m         \u001b[0mstart_time\u001b[0m \u001b[1;33m=\u001b[0m \u001b[0mself\u001b[0m\u001b[1;33m.\u001b[0m\u001b[0mrenderer\u001b[0m\u001b[1;33m.\u001b[0m\u001b[0mtime\u001b[0m\u001b[1;33m\u001b[0m\u001b[1;33m\u001b[0m\u001b[0m\n\u001b[1;32m-> 1030\u001b[1;33m         \u001b[0mself\u001b[0m\u001b[1;33m.\u001b[0m\u001b[0mrenderer\u001b[0m\u001b[1;33m.\u001b[0m\u001b[0mplay\u001b[0m\u001b[1;33m(\u001b[0m\u001b[0mself\u001b[0m\u001b[1;33m,\u001b[0m \u001b[1;33m*\u001b[0m\u001b[0margs\u001b[0m\u001b[1;33m,\u001b[0m \u001b[1;33m**\u001b[0m\u001b[0mkwargs\u001b[0m\u001b[1;33m)\u001b[0m\u001b[1;33m\u001b[0m\u001b[1;33m\u001b[0m\u001b[0m\n\u001b[0m\u001b[0;32m   1031\u001b[0m         \u001b[0mrun_time\u001b[0m \u001b[1;33m=\u001b[0m \u001b[0mself\u001b[0m\u001b[1;33m.\u001b[0m\u001b[0mrenderer\u001b[0m\u001b[1;33m.\u001b[0m\u001b[0mtime\u001b[0m \u001b[1;33m-\u001b[0m \u001b[0mstart_time\u001b[0m\u001b[1;33m\u001b[0m\u001b[1;33m\u001b[0m\u001b[0m\n\u001b[0;32m   1032\u001b[0m         \u001b[1;32mif\u001b[0m \u001b[0msubcaption\u001b[0m\u001b[1;33m:\u001b[0m\u001b[1;33m\u001b[0m\u001b[1;33m\u001b[0m\u001b[0m\n",
      "\u001b[1;32m~\\Anaconda3\\lib\\site-packages\\manim\\renderer\\cairo_renderer.py\u001b[0m in \u001b[0;36mplay\u001b[1;34m(self, scene, *args, **kwargs)\u001b[0m\n\u001b[0;32m     91\u001b[0m \u001b[1;33m\u001b[0m\u001b[0m\n\u001b[0;32m     92\u001b[0m         \u001b[1;31m# Save a static image, to avoid rendering non moving objects.\u001b[0m\u001b[1;33m\u001b[0m\u001b[1;33m\u001b[0m\u001b[1;33m\u001b[0m\u001b[0m\n\u001b[1;32m---> 93\u001b[1;33m         \u001b[0mself\u001b[0m\u001b[1;33m.\u001b[0m\u001b[0msave_static_frame_data\u001b[0m\u001b[1;33m(\u001b[0m\u001b[0mscene\u001b[0m\u001b[1;33m,\u001b[0m \u001b[0mscene\u001b[0m\u001b[1;33m.\u001b[0m\u001b[0mstatic_mobjects\u001b[0m\u001b[1;33m)\u001b[0m\u001b[1;33m\u001b[0m\u001b[1;33m\u001b[0m\u001b[0m\n\u001b[0m\u001b[0;32m     94\u001b[0m \u001b[1;33m\u001b[0m\u001b[0m\n\u001b[0;32m     95\u001b[0m         \u001b[1;32mif\u001b[0m \u001b[0mscene\u001b[0m\u001b[1;33m.\u001b[0m\u001b[0mis_current_animation_frozen_frame\u001b[0m\u001b[1;33m(\u001b[0m\u001b[1;33m)\u001b[0m\u001b[1;33m:\u001b[0m\u001b[1;33m\u001b[0m\u001b[1;33m\u001b[0m\u001b[0m\n",
      "\u001b[1;32m~\\Anaconda3\\lib\\site-packages\\manim\\renderer\\cairo_renderer.py\u001b[0m in \u001b[0;36msave_static_frame_data\u001b[1;34m(self, scene, static_mobjects)\u001b[0m\n\u001b[0;32m    223\u001b[0m         \u001b[1;32mif\u001b[0m \u001b[1;32mnot\u001b[0m \u001b[0mstatic_mobjects\u001b[0m\u001b[1;33m:\u001b[0m\u001b[1;33m\u001b[0m\u001b[1;33m\u001b[0m\u001b[0m\n\u001b[0;32m    224\u001b[0m             \u001b[1;32mreturn\u001b[0m \u001b[1;32mNone\u001b[0m\u001b[1;33m\u001b[0m\u001b[1;33m\u001b[0m\u001b[0m\n\u001b[1;32m--> 225\u001b[1;33m         \u001b[0mself\u001b[0m\u001b[1;33m.\u001b[0m\u001b[0mupdate_frame\u001b[0m\u001b[1;33m(\u001b[0m\u001b[0mscene\u001b[0m\u001b[1;33m,\u001b[0m \u001b[0mmobjects\u001b[0m\u001b[1;33m=\u001b[0m\u001b[0mstatic_mobjects\u001b[0m\u001b[1;33m)\u001b[0m\u001b[1;33m\u001b[0m\u001b[1;33m\u001b[0m\u001b[0m\n\u001b[0m\u001b[0;32m    226\u001b[0m         \u001b[0mself\u001b[0m\u001b[1;33m.\u001b[0m\u001b[0mstatic_image\u001b[0m \u001b[1;33m=\u001b[0m \u001b[0mself\u001b[0m\u001b[1;33m.\u001b[0m\u001b[0mget_frame\u001b[0m\u001b[1;33m(\u001b[0m\u001b[1;33m)\u001b[0m\u001b[1;33m\u001b[0m\u001b[1;33m\u001b[0m\u001b[0m\n\u001b[0;32m    227\u001b[0m         \u001b[1;32mreturn\u001b[0m \u001b[0mself\u001b[0m\u001b[1;33m.\u001b[0m\u001b[0mstatic_image\u001b[0m\u001b[1;33m\u001b[0m\u001b[1;33m\u001b[0m\u001b[0m\n",
      "\u001b[1;32m~\\Anaconda3\\lib\\site-packages\\manim\\renderer\\cairo_renderer.py\u001b[0m in \u001b[0;36mupdate_frame\u001b[1;34m(self, scene, mobjects, include_submobjects, ignore_skipping, **kwargs)\u001b[0m\n\u001b[0;32m    142\u001b[0m \u001b[1;33m\u001b[0m\u001b[0m\n\u001b[0;32m    143\u001b[0m         \u001b[0mkwargs\u001b[0m\u001b[1;33m[\u001b[0m\u001b[1;34m\"include_submobjects\"\u001b[0m\u001b[1;33m]\u001b[0m \u001b[1;33m=\u001b[0m \u001b[0minclude_submobjects\u001b[0m\u001b[1;33m\u001b[0m\u001b[1;33m\u001b[0m\u001b[0m\n\u001b[1;32m--> 144\u001b[1;33m         \u001b[0mself\u001b[0m\u001b[1;33m.\u001b[0m\u001b[0mcamera\u001b[0m\u001b[1;33m.\u001b[0m\u001b[0mcapture_mobjects\u001b[0m\u001b[1;33m(\u001b[0m\u001b[0mmobjects\u001b[0m\u001b[1;33m,\u001b[0m \u001b[1;33m**\u001b[0m\u001b[0mkwargs\u001b[0m\u001b[1;33m)\u001b[0m\u001b[1;33m\u001b[0m\u001b[1;33m\u001b[0m\u001b[0m\n\u001b[0m\u001b[0;32m    145\u001b[0m \u001b[1;33m\u001b[0m\u001b[0m\n\u001b[0;32m    146\u001b[0m     \u001b[1;32mdef\u001b[0m \u001b[0mrender\u001b[0m\u001b[1;33m(\u001b[0m\u001b[0mself\u001b[0m\u001b[1;33m,\u001b[0m \u001b[0mscene\u001b[0m\u001b[1;33m,\u001b[0m \u001b[0mtime\u001b[0m\u001b[1;33m,\u001b[0m \u001b[0mmoving_mobjects\u001b[0m\u001b[1;33m)\u001b[0m\u001b[1;33m:\u001b[0m\u001b[1;33m\u001b[0m\u001b[1;33m\u001b[0m\u001b[0m\n",
      "\u001b[1;32m~\\Anaconda3\\lib\\site-packages\\manim\\camera\\camera.py\u001b[0m in \u001b[0;36mcapture_mobjects\u001b[1;34m(self, mobjects, **kwargs)\u001b[0m\n\u001b[0;32m    501\u001b[0m         \u001b[0mmobjects\u001b[0m \u001b[1;33m=\u001b[0m \u001b[0mself\u001b[0m\u001b[1;33m.\u001b[0m\u001b[0mget_mobjects_to_display\u001b[0m\u001b[1;33m(\u001b[0m\u001b[0mmobjects\u001b[0m\u001b[1;33m,\u001b[0m \u001b[1;33m**\u001b[0m\u001b[0mkwargs\u001b[0m\u001b[1;33m)\u001b[0m\u001b[1;33m\u001b[0m\u001b[1;33m\u001b[0m\u001b[0m\n\u001b[0;32m    502\u001b[0m         \u001b[1;32mfor\u001b[0m \u001b[0mgroup_type\u001b[0m\u001b[1;33m,\u001b[0m \u001b[0mgroup\u001b[0m \u001b[1;32min\u001b[0m \u001b[0mit\u001b[0m\u001b[1;33m.\u001b[0m\u001b[0mgroupby\u001b[0m\u001b[1;33m(\u001b[0m\u001b[0mmobjects\u001b[0m\u001b[1;33m,\u001b[0m \u001b[0mself\u001b[0m\u001b[1;33m.\u001b[0m\u001b[0mtype_or_raise\u001b[0m\u001b[1;33m)\u001b[0m\u001b[1;33m:\u001b[0m\u001b[1;33m\u001b[0m\u001b[1;33m\u001b[0m\u001b[0m\n\u001b[1;32m--> 503\u001b[1;33m             \u001b[0mself\u001b[0m\u001b[1;33m.\u001b[0m\u001b[0mdisplay_funcs\u001b[0m\u001b[1;33m[\u001b[0m\u001b[0mgroup_type\u001b[0m\u001b[1;33m]\u001b[0m\u001b[1;33m(\u001b[0m\u001b[0mlist\u001b[0m\u001b[1;33m(\u001b[0m\u001b[0mgroup\u001b[0m\u001b[1;33m)\u001b[0m\u001b[1;33m,\u001b[0m \u001b[0mself\u001b[0m\u001b[1;33m.\u001b[0m\u001b[0mpixel_array\u001b[0m\u001b[1;33m)\u001b[0m\u001b[1;33m\u001b[0m\u001b[1;33m\u001b[0m\u001b[0m\n\u001b[0m\u001b[0;32m    504\u001b[0m \u001b[1;33m\u001b[0m\u001b[0m\n\u001b[0;32m    505\u001b[0m     \u001b[1;31m# Methods associated with svg rendering\u001b[0m\u001b[1;33m\u001b[0m\u001b[1;33m\u001b[0m\u001b[1;33m\u001b[0m\u001b[0m\n",
      "\u001b[1;32m~\\Anaconda3\\lib\\site-packages\\manim\\camera\\camera.py\u001b[0m in \u001b[0;36mdisplay_multiple_vectorized_mobjects\u001b[1;34m(self, vmobjects, pixel_array)\u001b[0m\n\u001b[0;32m    600\u001b[0m                 self.display_multiple_non_background_colored_vmobjects(\n\u001b[0;32m    601\u001b[0m                     \u001b[0mbatch\u001b[0m\u001b[1;33m,\u001b[0m\u001b[1;33m\u001b[0m\u001b[1;33m\u001b[0m\u001b[0m\n\u001b[1;32m--> 602\u001b[1;33m                     \u001b[0mpixel_array\u001b[0m\u001b[1;33m,\u001b[0m\u001b[1;33m\u001b[0m\u001b[1;33m\u001b[0m\u001b[0m\n\u001b[0m\u001b[0;32m    603\u001b[0m                 )\n\u001b[0;32m    604\u001b[0m \u001b[1;33m\u001b[0m\u001b[0m\n",
      "\u001b[1;32m~\\Anaconda3\\lib\\site-packages\\manim\\camera\\camera.py\u001b[0m in \u001b[0;36mdisplay_multiple_non_background_colored_vmobjects\u001b[1;34m(self, vmobjects, pixel_array)\u001b[0m\n\u001b[0;32m    616\u001b[0m         \u001b[0mctx\u001b[0m \u001b[1;33m=\u001b[0m \u001b[0mself\u001b[0m\u001b[1;33m.\u001b[0m\u001b[0mget_cairo_context\u001b[0m\u001b[1;33m(\u001b[0m\u001b[0mpixel_array\u001b[0m\u001b[1;33m)\u001b[0m\u001b[1;33m\u001b[0m\u001b[1;33m\u001b[0m\u001b[0m\n\u001b[0;32m    617\u001b[0m         \u001b[1;32mfor\u001b[0m \u001b[0mvmobject\u001b[0m \u001b[1;32min\u001b[0m \u001b[0mvmobjects\u001b[0m\u001b[1;33m:\u001b[0m\u001b[1;33m\u001b[0m\u001b[1;33m\u001b[0m\u001b[0m\n\u001b[1;32m--> 618\u001b[1;33m             \u001b[0mself\u001b[0m\u001b[1;33m.\u001b[0m\u001b[0mdisplay_vectorized\u001b[0m\u001b[1;33m(\u001b[0m\u001b[0mvmobject\u001b[0m\u001b[1;33m,\u001b[0m \u001b[0mctx\u001b[0m\u001b[1;33m)\u001b[0m\u001b[1;33m\u001b[0m\u001b[1;33m\u001b[0m\u001b[0m\n\u001b[0m\u001b[0;32m    619\u001b[0m \u001b[1;33m\u001b[0m\u001b[0m\n\u001b[0;32m    620\u001b[0m     \u001b[1;32mdef\u001b[0m \u001b[0mdisplay_vectorized\u001b[0m\u001b[1;33m(\u001b[0m\u001b[0mself\u001b[0m\u001b[1;33m,\u001b[0m \u001b[0mvmobject\u001b[0m\u001b[1;33m,\u001b[0m \u001b[0mctx\u001b[0m\u001b[1;33m)\u001b[0m\u001b[1;33m:\u001b[0m\u001b[1;33m\u001b[0m\u001b[1;33m\u001b[0m\u001b[0m\n",
      "\u001b[1;32m~\\Anaconda3\\lib\\site-packages\\manim\\camera\\camera.py\u001b[0m in \u001b[0;36mdisplay_vectorized\u001b[1;34m(self, vmobject, ctx)\u001b[0m\n\u001b[0;32m    636\u001b[0m         \u001b[0mself\u001b[0m\u001b[1;33m.\u001b[0m\u001b[0mapply_stroke\u001b[0m\u001b[1;33m(\u001b[0m\u001b[0mctx\u001b[0m\u001b[1;33m,\u001b[0m \u001b[0mvmobject\u001b[0m\u001b[1;33m,\u001b[0m \u001b[0mbackground\u001b[0m\u001b[1;33m=\u001b[0m\u001b[1;32mTrue\u001b[0m\u001b[1;33m)\u001b[0m\u001b[1;33m\u001b[0m\u001b[1;33m\u001b[0m\u001b[0m\n\u001b[0;32m    637\u001b[0m         \u001b[0mself\u001b[0m\u001b[1;33m.\u001b[0m\u001b[0mapply_fill\u001b[0m\u001b[1;33m(\u001b[0m\u001b[0mctx\u001b[0m\u001b[1;33m,\u001b[0m \u001b[0mvmobject\u001b[0m\u001b[1;33m)\u001b[0m\u001b[1;33m\u001b[0m\u001b[1;33m\u001b[0m\u001b[0m\n\u001b[1;32m--> 638\u001b[1;33m         \u001b[0mself\u001b[0m\u001b[1;33m.\u001b[0m\u001b[0mapply_stroke\u001b[0m\u001b[1;33m(\u001b[0m\u001b[0mctx\u001b[0m\u001b[1;33m,\u001b[0m \u001b[0mvmobject\u001b[0m\u001b[1;33m)\u001b[0m\u001b[1;33m\u001b[0m\u001b[1;33m\u001b[0m\u001b[0m\n\u001b[0m\u001b[0;32m    639\u001b[0m         \u001b[1;32mreturn\u001b[0m \u001b[0mself\u001b[0m\u001b[1;33m\u001b[0m\u001b[1;33m\u001b[0m\u001b[0m\n\u001b[0;32m    640\u001b[0m \u001b[1;33m\u001b[0m\u001b[0m\n",
      "\u001b[1;32m~\\Anaconda3\\lib\\site-packages\\manim\\camera\\camera.py\u001b[0m in \u001b[0;36mapply_stroke\u001b[1;34m(self, ctx, vmobject, background)\u001b[0m\n\u001b[0;32m    742\u001b[0m             \u001b[0mThe\u001b[0m \u001b[0mcamera\u001b[0m \u001b[0mobject\u001b[0m \u001b[1;32mwith\u001b[0m \u001b[0mthe\u001b[0m \u001b[0mstroke\u001b[0m \u001b[0mapplied\u001b[0m\u001b[1;33m.\u001b[0m\u001b[1;33m\u001b[0m\u001b[1;33m\u001b[0m\u001b[0m\n\u001b[0;32m    743\u001b[0m         \"\"\"\n\u001b[1;32m--> 744\u001b[1;33m         \u001b[0mwidth\u001b[0m \u001b[1;33m=\u001b[0m \u001b[0mvmobject\u001b[0m\u001b[1;33m.\u001b[0m\u001b[0mget_stroke_width\u001b[0m\u001b[1;33m(\u001b[0m\u001b[0mbackground\u001b[0m\u001b[1;33m)\u001b[0m\u001b[1;33m\u001b[0m\u001b[1;33m\u001b[0m\u001b[0m\n\u001b[0m\u001b[0;32m    745\u001b[0m         \u001b[1;32mif\u001b[0m \u001b[0mwidth\u001b[0m \u001b[1;33m==\u001b[0m \u001b[1;36m0\u001b[0m\u001b[1;33m:\u001b[0m\u001b[1;33m\u001b[0m\u001b[1;33m\u001b[0m\u001b[0m\n\u001b[0;32m    746\u001b[0m             \u001b[1;32mreturn\u001b[0m \u001b[0mself\u001b[0m\u001b[1;33m\u001b[0m\u001b[1;33m\u001b[0m\u001b[0m\n",
      "\u001b[1;32m~\\Anaconda3\\lib\\site-packages\\manim\\mobject\\types\\vectorized_mobject.py\u001b[0m in \u001b[0;36mget_stroke_width\u001b[1;34m(self, background)\u001b[0m\n\u001b[0;32m    430\u001b[0m             \u001b[0mwidth\u001b[0m \u001b[1;33m=\u001b[0m \u001b[0mself\u001b[0m\u001b[1;33m.\u001b[0m\u001b[0mstroke_width\u001b[0m\u001b[1;33m\u001b[0m\u001b[1;33m\u001b[0m\u001b[0m\n\u001b[0;32m    431\u001b[0m             \u001b[1;32mif\u001b[0m \u001b[0misinstance\u001b[0m\u001b[1;33m(\u001b[0m\u001b[0mwidth\u001b[0m\u001b[1;33m,\u001b[0m \u001b[0mstr\u001b[0m\u001b[1;33m)\u001b[0m\u001b[1;33m:\u001b[0m\u001b[1;33m\u001b[0m\u001b[1;33m\u001b[0m\u001b[0m\n\u001b[1;32m--> 432\u001b[1;33m                 \u001b[0mwidth\u001b[0m \u001b[1;33m=\u001b[0m \u001b[0mint\u001b[0m\u001b[1;33m(\u001b[0m\u001b[0mwidth\u001b[0m\u001b[1;33m)\u001b[0m\u001b[1;33m\u001b[0m\u001b[1;33m\u001b[0m\u001b[0m\n\u001b[0m\u001b[0;32m    433\u001b[0m         \u001b[1;32mreturn\u001b[0m \u001b[0mmax\u001b[0m\u001b[1;33m(\u001b[0m\u001b[1;36m0\u001b[0m\u001b[1;33m,\u001b[0m \u001b[0mwidth\u001b[0m\u001b[1;33m)\u001b[0m\u001b[1;33m\u001b[0m\u001b[1;33m\u001b[0m\u001b[0m\n\u001b[0;32m    434\u001b[0m \u001b[1;33m\u001b[0m\u001b[0m\n",
      "\u001b[1;31mValueError\u001b[0m: invalid literal for int() with base 10: '0.5'"
     ]
    }
   ],
   "source": [
    "%%manim -qm -v WARNING SVGExample1\n",
    "\n",
    "class SVGExample1(Scene):\n",
    "    def construct(self):\n",
    "        \n",
    "        cuartoVacio = SVGMobject(\"ropa/closet Vacio.svg\").move_to([0,0,0]).scale(3.6)\n",
    "        self.add(cuartoVacio)\n",
    "        self.wait(.2)\n",
    "        #cuartoArticulos = SVGMobject(\"closetArticulos.svg\").move_to([0,.5,0]).scale(2.6)\n",
    "        cuartoArticulos = SVGMobject(\"ropa/closet.svg\").move_to([0,0,0]).scale(3.6)\n",
    "        self.play(Write(cuartoArticulos), run_time = 4)\n",
    "        self.wait(.5)\n",
    "        chica = SVGMobject(\"ropa/chicaRopa.svg\").move_to([0,-.3,0])\n",
    "        chica.scale(3)\n",
    "        self.play(FadeIn(chica))\n",
    "        self.wait(1)\n",
    "\n",
    "        chicaR = SVGMobject(\"ropa/chicaRopaSosteniendoRopa.svg\").move_to([-.475,-.3,0])\n",
    "        chicaR.scale(3)\n",
    "        self.add(chicaR)\n",
    "        preg = Tex(\"¿Cuántas combinaciones se pueden hacer si tengo tales prendas o tales colores?\").scale(.7).move_to([0,3,0])\n",
    "        self.play(Write(preg))\n",
    "\n",
    "        self.wait(.5)\n",
    "        self.clear()\n",
    "        \n",
    "        board = SVGMobject(\"board.svg\").scale(3.6).move_to([0,0,0])\n",
    "        self.add(board)\n",
    "        reglas = Tex(\"Existen 2 reglas:\" , color = BLACK).scale(1.7).move_to([-1,2.5,0])\n",
    "        self.play(Write(reglas))\n",
    "        \n",
    "        green_circle = Circle().set_opacity(1).scale(.6).set_color(PURE_GREEN).move_to([-5,-2,0])\n",
    "        blue_circle = Circle().set_opacity(1).scale(.6).set_color(PURE_BLUE).move_to([-3,-2,0])\n",
    "        red_circle = Circle().set_opacity(1).scale(.6).set_color(PURE_RED).move_to([-1,-2,0])\n",
    "        \n",
    "        green_t = Triangle().set_opacity(1).scale(.6).set_color(PURE_GREEN).move_to([1,-2,0])\n",
    "        blue_t = Triangle().set_opacity(1).scale(.6).set_color(PURE_BLUE).move_to([3,-2,0])\n",
    "        red_t= Triangle().set_opacity(1).scale(.6).set_color(PURE_RED).move_to([5,-2,0])\n",
    "        self.play(FadeIn(green_circle), FadeIn(blue_circle),FadeIn(red_circle), \n",
    "                  FadeIn(green_t),FadeIn(blue_t), FadeIn(red_t), run_time = 2)\n",
    "        \n",
    "        regla1 = Tex(\"-Principio de la suma\" , color = BLACK).scale(1.4).move_to([-1.45,1.2,0])\n",
    "        self.play(Write(regla1), run_time = 1.13)\n",
    "        regla2 = Tex(\"-Principio de la multiplicación\" , color = BLACK).scale(1.4).move_to([-.1,.2,0])\n",
    "        self.play(Write(regla2), run_time = 1.8)\n",
    "        \n",
    "        self.wait(.5)\n",
    "        self.clear()\n",
    "        self.wait(.5)\n",
    "\n",
    "\n",
    "        \n",
    "        \n"
   ]
  },
  {
   "cell_type": "code",
   "execution_count": 6,
   "metadata": {},
   "outputs": [
    {
     "data": {
      "text/html": [
       "<pre style=\"white-space:pre;overflow-x:auto;line-height:normal;font-family:Menlo,'DejaVu Sans Mono',consolas,'Courier New',monospace\"><span style=\"color: #7fbfbf; text-decoration-color: #7fbfbf\">[11/11/23 11:45:30] </span><span style=\"color: #800000; text-decoration-color: #800000\">WARNING </span> Handling of rotate transform is not supported yet!                  <a href=\"file://C:\\Users\\super\\Anaconda3\\lib\\site-packages\\manim\\mobject\\svg\\svg_mobject.py\" target=\"_blank\"><span style=\"color: #7f7f7f; text-decoration-color: #7f7f7f\">svg_mobject.py</span></a><span style=\"color: #7f7f7f; text-decoration-color: #7f7f7f\">:</span><a href=\"file://C:\\Users\\super\\Anaconda3\\lib\\site-packages\\manim\\mobject\\svg\\svg_mobject.py#586\" target=\"_blank\"><span style=\"color: #7f7f7f; text-decoration-color: #7f7f7f\">586</span></a>\n",
       "</pre>\n"
      ],
      "text/plain": [
       "\u001b[2;36m[11/11/23 11:45:30]\u001b[0m\u001b[2;36m \u001b[0m\u001b[31mWARNING \u001b[0m Handling of rotate transform is not supported yet!                  \u001b]8;id=861090;file://C:\\Users\\super\\Anaconda3\\lib\\site-packages\\manim\\mobject\\svg\\svg_mobject.py\u001b\\\u001b[2msvg_mobject.py\u001b[0m\u001b]8;;\u001b\\\u001b[2m:\u001b[0m\u001b]8;id=336126;file://C:\\Users\\super\\Anaconda3\\lib\\site-packages\\manim\\mobject\\svg\\svg_mobject.py#586\u001b\\\u001b[2m586\u001b[0m\u001b]8;;\u001b\\\n"
      ]
     },
     "metadata": {},
     "output_type": "display_data"
    },
    {
     "data": {
      "text/html": [
       "<pre style=\"white-space:pre;overflow-x:auto;line-height:normal;font-family:Menlo,'DejaVu Sans Mono',consolas,'Courier New',monospace\"><span style=\"color: #7fbfbf; text-decoration-color: #7fbfbf\">                    </span><span style=\"color: #800000; text-decoration-color: #800000\">WARNING </span> Handling of rotate transform is not supported yet!                  <a href=\"file://C:\\Users\\super\\Anaconda3\\lib\\site-packages\\manim\\mobject\\svg\\svg_mobject.py\" target=\"_blank\"><span style=\"color: #7f7f7f; text-decoration-color: #7f7f7f\">svg_mobject.py</span></a><span style=\"color: #7f7f7f; text-decoration-color: #7f7f7f\">:</span><a href=\"file://C:\\Users\\super\\Anaconda3\\lib\\site-packages\\manim\\mobject\\svg\\svg_mobject.py#586\" target=\"_blank\"><span style=\"color: #7f7f7f; text-decoration-color: #7f7f7f\">586</span></a>\n",
       "</pre>\n"
      ],
      "text/plain": [
       "\u001b[2;36m                   \u001b[0m\u001b[2;36m \u001b[0m\u001b[31mWARNING \u001b[0m Handling of rotate transform is not supported yet!                  \u001b]8;id=804834;file://C:\\Users\\super\\Anaconda3\\lib\\site-packages\\manim\\mobject\\svg\\svg_mobject.py\u001b\\\u001b[2msvg_mobject.py\u001b[0m\u001b]8;;\u001b\\\u001b[2m:\u001b[0m\u001b]8;id=630140;file://C:\\Users\\super\\Anaconda3\\lib\\site-packages\\manim\\mobject\\svg\\svg_mobject.py#586\u001b\\\u001b[2m586\u001b[0m\u001b]8;;\u001b\\\n"
      ]
     },
     "metadata": {},
     "output_type": "display_data"
    },
    {
     "data": {
      "text/html": [
       "<pre style=\"white-space:pre;overflow-x:auto;line-height:normal;font-family:Menlo,'DejaVu Sans Mono',consolas,'Courier New',monospace\"><span style=\"color: #7fbfbf; text-decoration-color: #7fbfbf\">                    </span><span style=\"color: #800000; text-decoration-color: #800000\">WARNING </span> Handling of rotate transform is not supported yet!                  <a href=\"file://C:\\Users\\super\\Anaconda3\\lib\\site-packages\\manim\\mobject\\svg\\svg_mobject.py\" target=\"_blank\"><span style=\"color: #7f7f7f; text-decoration-color: #7f7f7f\">svg_mobject.py</span></a><span style=\"color: #7f7f7f; text-decoration-color: #7f7f7f\">:</span><a href=\"file://C:\\Users\\super\\Anaconda3\\lib\\site-packages\\manim\\mobject\\svg\\svg_mobject.py#586\" target=\"_blank\"><span style=\"color: #7f7f7f; text-decoration-color: #7f7f7f\">586</span></a>\n",
       "</pre>\n"
      ],
      "text/plain": [
       "\u001b[2;36m                   \u001b[0m\u001b[2;36m \u001b[0m\u001b[31mWARNING \u001b[0m Handling of rotate transform is not supported yet!                  \u001b]8;id=641819;file://C:\\Users\\super\\Anaconda3\\lib\\site-packages\\manim\\mobject\\svg\\svg_mobject.py\u001b\\\u001b[2msvg_mobject.py\u001b[0m\u001b]8;;\u001b\\\u001b[2m:\u001b[0m\u001b]8;id=134401;file://C:\\Users\\super\\Anaconda3\\lib\\site-packages\\manim\\mobject\\svg\\svg_mobject.py#586\u001b\\\u001b[2m586\u001b[0m\u001b]8;;\u001b\\\n"
      ]
     },
     "metadata": {},
     "output_type": "display_data"
    },
    {
     "name": "stderr",
     "output_type": "stream",
     "text": [
      "                                                                                                                       \r"
     ]
    },
    {
     "data": {
      "text/html": [
       "<video src=\"media\\jupyter\\video1escena6@2023-11-11@11-45-34.mp4\" controls autoplay loop style=\"max-width: 60%;\"  >\n",
       "      Your browser does not support the <code>video</code> element.\n",
       "    </video>"
      ],
      "text/plain": [
       "<IPython.core.display.Video object>"
      ]
     },
     "metadata": {},
     "output_type": "display_data"
    }
   ],
   "source": [
    "%%manim -qm -v WARNING video1escena6\n",
    "\n",
    "class video1escena6(Scene):\n",
    "    def construct(self):\n",
    "        board = SVGMobject(\"board.svg\").scale(3.6).move_to([0,0,0])\n",
    "        self.add(board)\n",
    "        reglaProdText = Tex(\"Principio del Producto\", color = BLACK).scale(1.7)\n",
    "        reglaProdText.move_to([-1,2.5,0])\n",
    "        \n",
    "        eventAText = Tex(\"Evento A:\", color = BLACK).scale(1.2).move_to([-3.5,1.2,0])\n",
    "        eventAmanText = Tex(\"m opciones\", color = BLACK).scale(1.2).next_to(eventAText, RIGHT)\n",
    "        \n",
    "        eventBText = Tex(\"Evento B:\", color = BLACK).scale(1.2).next_to(eventAText, 2 * DOWN)\n",
    "        eventBmanText = Tex(\"n opciones\", color = BLACK).scale(1.2).next_to(eventBText, RIGHT)\n",
    "        \n",
    "        eventAyBText = Tex(r\"Evento A\\\\ y \\\\ Evento B\", color = BLACK).scale(1.2).next_to(eventBText, 3 * DOWN)\n",
    "        eventAyBmanText = Tex(\": m * n opciones\", color = BLACK).scale(1.2).next_to(eventAyBText, RIGHT)\n",
    "        \n",
    "        self.play(Write(reglaProdText), run_time = 1)\n",
    "        self.play(Write(eventAText), run_time = 1)\n",
    "        self.play(Write(eventAmanText), run_time = 2.5)\n",
    "        self.play(Write(eventBText), run_time = 1)\n",
    "        self.play(Write(eventBmanText), run_time = 2.5)\n",
    "        self.play(Write(eventAyBText), run_time = 2.2)\n",
    "        self.play(Write(eventAyBmanText), run_time = 2.7)\n",
    "        self.wait(1)"
   ]
  },
  {
   "cell_type": "code",
   "execution_count": 9,
   "metadata": {},
   "outputs": [
    {
     "data": {
      "text/html": [
       "<pre style=\"white-space:pre;overflow-x:auto;line-height:normal;font-family:Menlo,'DejaVu Sans Mono',consolas,'Courier New',monospace\"><span style=\"color: #7fbfbf; text-decoration-color: #7fbfbf\">[11/11/23 12:00:24] </span><span style=\"color: #800000; text-decoration-color: #800000\">WARNING </span> Handling of rotate transform is not supported yet!                  <a href=\"file://C:\\Users\\super\\Anaconda3\\lib\\site-packages\\manim\\mobject\\svg\\svg_mobject.py\" target=\"_blank\"><span style=\"color: #7f7f7f; text-decoration-color: #7f7f7f\">svg_mobject.py</span></a><span style=\"color: #7f7f7f; text-decoration-color: #7f7f7f\">:</span><a href=\"file://C:\\Users\\super\\Anaconda3\\lib\\site-packages\\manim\\mobject\\svg\\svg_mobject.py#586\" target=\"_blank\"><span style=\"color: #7f7f7f; text-decoration-color: #7f7f7f\">586</span></a>\n",
       "</pre>\n"
      ],
      "text/plain": [
       "\u001b[2;36m[11/11/23 12:00:24]\u001b[0m\u001b[2;36m \u001b[0m\u001b[31mWARNING \u001b[0m Handling of rotate transform is not supported yet!                  \u001b]8;id=429844;file://C:\\Users\\super\\Anaconda3\\lib\\site-packages\\manim\\mobject\\svg\\svg_mobject.py\u001b\\\u001b[2msvg_mobject.py\u001b[0m\u001b]8;;\u001b\\\u001b[2m:\u001b[0m\u001b]8;id=307818;file://C:\\Users\\super\\Anaconda3\\lib\\site-packages\\manim\\mobject\\svg\\svg_mobject.py#586\u001b\\\u001b[2m586\u001b[0m\u001b]8;;\u001b\\\n"
      ]
     },
     "metadata": {},
     "output_type": "display_data"
    },
    {
     "data": {
      "text/html": [
       "<pre style=\"white-space:pre;overflow-x:auto;line-height:normal;font-family:Menlo,'DejaVu Sans Mono',consolas,'Courier New',monospace\"><span style=\"color: #7fbfbf; text-decoration-color: #7fbfbf\">                    </span><span style=\"color: #800000; text-decoration-color: #800000\">WARNING </span> Handling of rotate transform is not supported yet!                  <a href=\"file://C:\\Users\\super\\Anaconda3\\lib\\site-packages\\manim\\mobject\\svg\\svg_mobject.py\" target=\"_blank\"><span style=\"color: #7f7f7f; text-decoration-color: #7f7f7f\">svg_mobject.py</span></a><span style=\"color: #7f7f7f; text-decoration-color: #7f7f7f\">:</span><a href=\"file://C:\\Users\\super\\Anaconda3\\lib\\site-packages\\manim\\mobject\\svg\\svg_mobject.py#586\" target=\"_blank\"><span style=\"color: #7f7f7f; text-decoration-color: #7f7f7f\">586</span></a>\n",
       "</pre>\n"
      ],
      "text/plain": [
       "\u001b[2;36m                   \u001b[0m\u001b[2;36m \u001b[0m\u001b[31mWARNING \u001b[0m Handling of rotate transform is not supported yet!                  \u001b]8;id=332233;file://C:\\Users\\super\\Anaconda3\\lib\\site-packages\\manim\\mobject\\svg\\svg_mobject.py\u001b\\\u001b[2msvg_mobject.py\u001b[0m\u001b]8;;\u001b\\\u001b[2m:\u001b[0m\u001b]8;id=379676;file://C:\\Users\\super\\Anaconda3\\lib\\site-packages\\manim\\mobject\\svg\\svg_mobject.py#586\u001b\\\u001b[2m586\u001b[0m\u001b]8;;\u001b\\\n"
      ]
     },
     "metadata": {},
     "output_type": "display_data"
    },
    {
     "data": {
      "text/html": [
       "<pre style=\"white-space:pre;overflow-x:auto;line-height:normal;font-family:Menlo,'DejaVu Sans Mono',consolas,'Courier New',monospace\"><span style=\"color: #7fbfbf; text-decoration-color: #7fbfbf\">                    </span><span style=\"color: #800000; text-decoration-color: #800000\">WARNING </span> Handling of rotate transform is not supported yet!                  <a href=\"file://C:\\Users\\super\\Anaconda3\\lib\\site-packages\\manim\\mobject\\svg\\svg_mobject.py\" target=\"_blank\"><span style=\"color: #7f7f7f; text-decoration-color: #7f7f7f\">svg_mobject.py</span></a><span style=\"color: #7f7f7f; text-decoration-color: #7f7f7f\">:</span><a href=\"file://C:\\Users\\super\\Anaconda3\\lib\\site-packages\\manim\\mobject\\svg\\svg_mobject.py#586\" target=\"_blank\"><span style=\"color: #7f7f7f; text-decoration-color: #7f7f7f\">586</span></a>\n",
       "</pre>\n"
      ],
      "text/plain": [
       "\u001b[2;36m                   \u001b[0m\u001b[2;36m \u001b[0m\u001b[31mWARNING \u001b[0m Handling of rotate transform is not supported yet!                  \u001b]8;id=836868;file://C:\\Users\\super\\Anaconda3\\lib\\site-packages\\manim\\mobject\\svg\\svg_mobject.py\u001b\\\u001b[2msvg_mobject.py\u001b[0m\u001b]8;;\u001b\\\u001b[2m:\u001b[0m\u001b]8;id=792469;file://C:\\Users\\super\\Anaconda3\\lib\\site-packages\\manim\\mobject\\svg\\svg_mobject.py#586\u001b\\\u001b[2m586\u001b[0m\u001b]8;;\u001b\\\n"
      ]
     },
     "metadata": {},
     "output_type": "display_data"
    },
    {
     "name": "stderr",
     "output_type": "stream",
     "text": [
      "                                                                                                                       \r"
     ]
    },
    {
     "data": {
      "text/html": [
       "<video src=\"media\\jupyter\\video1escena10@2023-11-11@12-00-35.mp4\" controls autoplay loop style=\"max-width: 60%;\"  >\n",
       "      Your browser does not support the <code>video</code> element.\n",
       "    </video>"
      ],
      "text/plain": [
       "<IPython.core.display.Video object>"
      ]
     },
     "metadata": {},
     "output_type": "display_data"
    }
   ],
   "source": [
    "%%manim -qm -v WARNING video1escena10\n",
    "\n",
    "class video1escena10(Scene):\n",
    "    def construct(self):\n",
    "        board = SVGMobject(\"pizarron.svg\").scale(3.6).move_to([0,0,0])\n",
    "        self.add(board)\n",
    "        reglaSumaText = Tex(\"Principio de la Suma\", color = BLACK).scale(1.7)\n",
    "        reglaSumaText.move_to([-1.3,2.5,0])\n",
    "        \n",
    "        eventAText = Tex(\"Evento A:\", color = BLACK).scale(1.2).move_to([-3.5,1.2,0])\n",
    "        eventAmanText = Tex(\"m opciones\",color = BLACK).scale(1.2).next_to(eventAText, RIGHT)\n",
    "        \n",
    "        eventBText = Tex(\"Evento B:\", color = BLACK).scale(1.2).next_to(eventAText, 2 * DOWN)\n",
    "        eventBmanText = Tex(\"n opciones\", color = BLACK).scale(1.2).next_to(eventBText, RIGHT)\n",
    "        \n",
    "        eventAoBText = Tex(r\"Evento A\\\\ o \\\\ Evento B\", color = BLACK).scale(1.2).next_to(eventBText, 3 * DOWN)\n",
    "        eventAoBmanText = Tex(\": m + n opciones\", color = BLACK).scale(1.2).next_to(eventAoBText, RIGHT)\n",
    "        \n",
    "        self.play(Write(reglaSumaText), run_time = 1)\n",
    "        self.play(Write(eventAText), run_time = 1)\n",
    "        self.play(Write(eventAmanText), run_time = 2.5)\n",
    "        self.play(Write(eventBText), run_time = 1)\n",
    "        self.play(Write(eventBmanText), run_time = 2.5)\n",
    "        self.play(Write(eventAoBText), run_time = 2.2)\n",
    "        self.play(Write(eventAoBmanText), run_time = 2.7)\n",
    "        self.wait(1)"
   ]
  },
  {
   "cell_type": "code",
   "execution_count": 1,
   "metadata": {},
   "outputs": [
    {
     "name": "stdout",
     "output_type": "stream",
     "text": [
      "Requirement already up-to-date: manim in c:\\users\\super\\anaconda3\\lib\\site-packages (0.16.0.post0)\n",
      "Requirement already satisfied, skipping upgrade: importlib-metadata<5.0.0,>=4.10.0; python_version < \"3.8\" in c:\\users\\super\\anaconda3\\lib\\site-packages (from manim) (4.13.0)\n",
      "Requirement already satisfied, skipping upgrade: backports.cached-property<2.0.0,>=1.0.1; python_version < \"3.8\" in c:\\users\\super\\anaconda3\\lib\\site-packages (from manim) (1.0.2)\n",
      "Requirement already satisfied, skipping upgrade: Pygments<3.0.0,>=2.10.0 in c:\\users\\super\\anaconda3\\lib\\site-packages (from manim) (2.16.1)\n",
      "Requirement already satisfied, skipping upgrade: Pillow<10.0,>=9.1 in c:\\users\\super\\anaconda3\\lib\\site-packages (from manim) (9.5.0)\n",
      "Requirement already satisfied, skipping upgrade: pydub<0.26.0,>=0.25.1 in c:\\users\\super\\anaconda3\\lib\\site-packages (from manim) (0.25.1)\n",
      "Requirement already satisfied, skipping upgrade: click-default-group<2.0.0,>=1.2.2 in c:\\users\\super\\anaconda3\\lib\\site-packages (from manim) (1.2.4)\n",
      "Requirement already satisfied, skipping upgrade: isosurfaces==0.1.0 in c:\\users\\super\\anaconda3\\lib\\site-packages (from manim) (0.1.0)\n",
      "Requirement already satisfied, skipping upgrade: pycairo<2.0,>=1.19 in c:\\users\\super\\anaconda3\\lib\\site-packages (from manim) (1.23.0)\n",
      "Requirement already satisfied, skipping upgrade: networkx<3.0,>=2.5 in c:\\users\\super\\anaconda3\\lib\\site-packages (from manim) (2.6.3)\n",
      "Requirement already satisfied, skipping upgrade: screeninfo<0.9,>=0.8 in c:\\users\\super\\anaconda3\\lib\\site-packages (from manim) (0.8.1)\n",
      "Requirement already satisfied, skipping upgrade: requests<3.0.0,>=2.26.0 in c:\\users\\super\\anaconda3\\lib\\site-packages (from manim) (2.31.0)\n",
      "Requirement already satisfied, skipping upgrade: rich!=12.0.0,>=6.0 in c:\\users\\super\\anaconda3\\lib\\site-packages (from manim) (13.6.0)\n",
      "Requirement already satisfied, skipping upgrade: scipy<2.0.0,>=1.7.3 in c:\\users\\super\\anaconda3\\lib\\site-packages (from manim) (1.7.3)\n",
      "Requirement already satisfied, skipping upgrade: watchdog<3.0.0,>=2.1.6 in c:\\users\\super\\anaconda3\\lib\\site-packages (from manim) (2.3.1)\n",
      "Requirement already satisfied, skipping upgrade: cloup<0.14.0,>=0.13.0 in c:\\users\\super\\anaconda3\\lib\\site-packages (from manim) (0.13.1)\n",
      "Requirement already satisfied, skipping upgrade: mapbox-earcut<0.13.0,>=0.12.10 in c:\\users\\super\\anaconda3\\lib\\site-packages (from manim) (0.12.11)\n",
      "Requirement already satisfied, skipping upgrade: tqdm<5.0.0,>=4.62.3 in c:\\users\\super\\anaconda3\\lib\\site-packages (from manim) (4.66.1)\n",
      "Requirement already satisfied, skipping upgrade: manimpango<0.5.0,>=0.4.0.post0 in c:\\users\\super\\anaconda3\\lib\\site-packages (from manim) (0.4.3)\n",
      "Requirement already satisfied, skipping upgrade: click>=7.2 in c:\\users\\super\\anaconda3\\lib\\site-packages (from manim) (8.1.7)\n",
      "Requirement already satisfied, skipping upgrade: moderngl-window<3.0.0,>=2.3.0 in c:\\users\\super\\anaconda3\\lib\\site-packages (from manim) (2.4.4)\n",
      "Requirement already satisfied, skipping upgrade: moderngl<6.0.0,>=5.6.3 in c:\\users\\super\\anaconda3\\lib\\site-packages (from manim) (5.8.2)\n",
      "Requirement already satisfied, skipping upgrade: decorator<6.0.0,>=5.0.7 in c:\\users\\super\\anaconda3\\lib\\site-packages (from manim) (5.1.1)\n",
      "Requirement already satisfied, skipping upgrade: colour<0.2.0,>=0.1.5 in c:\\users\\super\\anaconda3\\lib\\site-packages (from manim) (0.1.5)\n",
      "Requirement already satisfied, skipping upgrade: skia-pathops<0.8.0,>=0.7.0 in c:\\users\\super\\anaconda3\\lib\\site-packages (from manim) (0.7.4)\n",
      "Requirement already satisfied, skipping upgrade: numpy<2.0,>=1.19 in c:\\users\\super\\anaconda3\\lib\\site-packages (from manim) (1.21.6)\n",
      "Requirement already satisfied, skipping upgrade: srt<4.0.0,>=3.5.0 in c:\\users\\super\\anaconda3\\lib\\site-packages (from manim) (3.5.3)\n",
      "Requirement already satisfied, skipping upgrade: zipp>=0.5 in c:\\users\\super\\anaconda3\\lib\\site-packages (from importlib-metadata<5.0.0,>=4.10.0; python_version < \"3.8\"->manim) (0.5.1)\n",
      "Requirement already satisfied, skipping upgrade: typing-extensions>=3.6.4; python_version < \"3.8\" in c:\\users\\super\\anaconda3\\lib\\site-packages (from importlib-metadata<5.0.0,>=4.10.0; python_version < \"3.8\"->manim) (4.7.1)\n",
      "Requirement already satisfied, skipping upgrade: certifi>=2017.4.17 in c:\\users\\super\\anaconda3\\lib\\site-packages (from requests<3.0.0,>=2.26.0->manim) (2019.6.16)\n",
      "Requirement already satisfied, skipping upgrade: idna<4,>=2.5 in c:\\users\\super\\anaconda3\\lib\\site-packages (from requests<3.0.0,>=2.26.0->manim) (2.8)\n",
      "Requirement already satisfied, skipping upgrade: charset-normalizer<4,>=2 in c:\\users\\super\\anaconda3\\lib\\site-packages (from requests<3.0.0,>=2.26.0->manim) (3.3.0)\n",
      "Requirement already satisfied, skipping upgrade: urllib3<3,>=1.21.1 in c:\\users\\super\\anaconda3\\lib\\site-packages (from requests<3.0.0,>=2.26.0->manim) (1.24.2)\n",
      "Requirement already satisfied, skipping upgrade: markdown-it-py>=2.2.0 in c:\\users\\super\\anaconda3\\lib\\site-packages (from rich!=12.0.0,>=6.0->manim) (2.2.0)\n",
      "Requirement already satisfied, skipping upgrade: colorama; platform_system == \"Windows\" in c:\\users\\super\\anaconda3\\lib\\site-packages (from tqdm<5.0.0,>=4.62.3->manim) (0.4.1)\n",
      "Requirement already satisfied, skipping upgrade: pyrr<1,>=0.10.3 in c:\\users\\super\\anaconda3\\lib\\site-packages (from moderngl-window<3.0.0,>=2.3.0->manim) (0.10.3)\n",
      "Requirement already satisfied, skipping upgrade: pyglet>=2.0dev23 in c:\\users\\super\\anaconda3\\lib\\site-packages (from moderngl-window<3.0.0,>=2.3.0->manim) (2.0.9)\n",
      "Requirement already satisfied, skipping upgrade: glcontext<3,>=2.3.6 in c:\\users\\super\\anaconda3\\lib\\site-packages (from moderngl<6.0.0,>=5.6.3->manim) (2.4.0)\n",
      "Requirement already satisfied, skipping upgrade: mdurl~=0.1 in c:\\users\\super\\anaconda3\\lib\\site-packages (from markdown-it-py>=2.2.0->rich!=12.0.0,>=6.0->manim) (0.1.2)\n",
      "Requirement already satisfied, skipping upgrade: multipledispatch in c:\\users\\super\\anaconda3\\lib\\site-packages (from pyrr<1,>=0.10.3->moderngl-window<3.0.0,>=2.3.0->manim) (0.6.0)\n",
      "Requirement already satisfied, skipping upgrade: six in c:\\users\\super\\anaconda3\\lib\\site-packages (from multipledispatch->pyrr<1,>=0.10.3->moderngl-window<3.0.0,>=2.3.0->manim) (1.12.0)\n",
      "Note: you may need to restart the kernel to use updated packages.\n"
     ]
    }
   ],
   "source": [
    "pip install --upgrade manim\n"
   ]
  },
  {
   "cell_type": "code",
   "execution_count": null,
   "metadata": {},
   "outputs": [],
   "source": []
  }
 ],
 "metadata": {
  "kernelspec": {
   "display_name": "Python 3",
   "language": "python",
   "name": "python3"
  },
  "language_info": {
   "codemirror_mode": {
    "name": "ipython",
    "version": 3
   },
   "file_extension": ".py",
   "mimetype": "text/x-python",
   "name": "python",
   "nbconvert_exporter": "python",
   "pygments_lexer": "ipython3",
   "version": "3.7.3"
  }
 },
 "nbformat": 4,
 "nbformat_minor": 2
}
