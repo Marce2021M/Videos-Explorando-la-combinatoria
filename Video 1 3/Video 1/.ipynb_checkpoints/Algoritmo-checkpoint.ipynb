{
 "cells": [
  {
   "cell_type": "code",
   "execution_count": 95,
   "metadata": {},
   "outputs": [],
   "source": [
    "from manim import *\n",
    "import networkx as nx\n",
    "import numpy as np\n",
    "import copy"
   ]
  },
  {
   "cell_type": "code",
   "execution_count": 96,
   "metadata": {},
   "outputs": [],
   "source": [
    "def distribuir_puntos_uniformemente(n, dist):\n",
    "    puntos = []\n",
    "    if n % 2 == 0:  # Si n es par, se divide niformemente a ambos lados de 0.\n",
    "        cant_puntos_lado = n // 2\n",
    "        puntos_lado = [dist * (i - 1/2) for i in range(1, cant_puntos_lado + 1)]\n",
    "    else:  # Si n es impar, se coloca un punto en 0 y se divide el resto uniformemente.\n",
    "        cant_puntos_lado = (n - 1) // 2\n",
    "        puntos_lado = [dist * i for i in range(1, cant_puntos_lado + 1)]\n",
    "        puntos += [0]\n",
    "    \n",
    "    # Distribuye puntos uniformemente arriba y abajo de 0 con una distancia de 0.5.\n",
    "    \n",
    "    puntos.extend(puntos_lado)\n",
    "    puntos.extend(-1* np.array(puntos_lado))\n",
    "\n",
    "    return sorted(puntos, reverse=True)\n",
    "\n",
    "#submatriz = distribuir_puntos_uniformemente(6, .8)\n",
    "#print(submatriz)"
   ]
  },
  {
   "cell_type": "code",
   "execution_count": 97,
   "metadata": {},
   "outputs": [],
   "source": [
    "def distribucion_vertical(arreglo, combTotales, dist = .8):\n",
    "    pisos = len(arreglo)\n",
    "    distPisos = 2\n",
    "    x = pisos * distPisos -6 # eje es x\n",
    "    puntos_ultimo_renglon = distribuir_puntos_uniformemente(combTotales, dist)\n",
    "    puntosAntes = puntos_ultimo_renglon\n",
    "    p = [(x, valor, 0) for valor in puntosAntes]\n",
    "    puntos = []\n",
    "    puntos.append(p)\n",
    "    aristas =[]\n",
    "    for dec in reversed(arreglo):\n",
    "        puntosR = []\n",
    "        coor_ren = []\n",
    "        x -= distPisos\n",
    "        for i in range(0, len(puntosAntes), dec):\n",
    "            valor_y = round((puntosAntes[i] + puntosAntes[i + dec - 1])/2,2)\n",
    "            puntosR += [valor_y]\n",
    "            coor_ren.append((x,valor_y, 0))\n",
    "            for j in range(i , i+ dec):\n",
    "                par = [(x,-1*valor_y, -5), (x + distPisos, -1*puntosAntes[j],-5)]\n",
    "                aristas.insert(0,par)\n",
    "\n",
    "        puntos.insert(0,coor_ren)\n",
    "        puntosAntes = puntosR\n",
    "    return (puntos, aristas)\n",
    "\n",
    "#distribucion_vertical([2,3,1],6)"
   ]
  },
  {
   "cell_type": "code",
   "execution_count": 98,
   "metadata": {},
   "outputs": [],
   "source": [
    "def distribucion_horizontal(arreglo, combTotales, dist = None):\n",
    "    if dist is None:\n",
    "        dist = 12 / combTotales\n",
    "    pisos = len(arreglo)\n",
    "    distPisos = 1.5 if pisos <= 4 else 1\n",
    "    y = 3 - pisos * distPisos # eje es y\n",
    "    puntos_ultimo_renglon = distribuir_puntos_uniformemente(combTotales, dist)\n",
    "    puntosAntes = puntos_ultimo_renglon\n",
    "    p = [(valor, y, 0) for valor in puntosAntes]\n",
    "    puntos = []\n",
    "    puntos.append(p)\n",
    "    aristas = []\n",
    "    for dec in reversed(arreglo):\n",
    "        puntosR = []\n",
    "        coor_ren = []\n",
    "        y += distPisos\n",
    "        for i in range(0, len(puntosAntes), dec):\n",
    "            valor_x = round((puntosAntes[i] + puntosAntes[i + dec - 1])/2,2)\n",
    "            puntosR += [valor_x]\n",
    "            coor_ren.append((valor_x,y, 0))\n",
    "            for j in range(i , i+ dec):\n",
    "                par = [(-1*valor_x,y, -5), (-1*puntosAntes[j], y - distPisos,-5)]\n",
    "                aristas.insert(0,par)\n",
    "\n",
    "        puntos.insert(0,coor_ren)\n",
    "        puntosAntes = puntosR\n",
    "\n",
    "    return (puntos, aristas)\n"
   ]
  },
  {
   "cell_type": "code",
   "execution_count": 99,
   "metadata": {},
   "outputs": [],
   "source": [
    "def multiplicar_valores(arreglo, dist = .8):\n",
    "    if len(arreglo) == 0:\n",
    "        return 0  # Si el arreglo está vacío, el resultado es 0.\n",
    "    else:\n",
    "        combTotales = np.prod(arreglo)\n",
    "        if combTotales <= 10: # vertical\n",
    "            # dist = .8\n",
    "            puntos,aristas = distribucion_vertical(arreglo, combTotales, dist)\n",
    "\n",
    "        else:\n",
    "            puntos, aristas = distribucion_horizontal(arreglo, combTotales, dist)\n",
    "        \n",
    "        return puntos, aristas\n"
   ]
  },
  {
   "cell_type": "code",
   "execution_count": 100,
   "metadata": {},
   "outputs": [],
   "source": [
    "def imagenesArbol():\n",
    "    matriz = [[SVGMobject(\"Food/plate.svg\").scale(1.7), SVGMobject(\"Food/SalsaPomodoro.svg\"), SVGMobject(\"Food/SalsaParmesano.svg\"), \n",
    "               SVGMobject(\"Food/SalsaAjo.svg\"), SVGMobject(\"Food/SalsaPesto.svg\"), SVGMobject(\"Food/SalsaChampiñon.svg\")],\n",
    "               [SVGMobject(\"Food/espagueti.svg\").scale(1.8).rotate(-.1), SVGMobject(\"Food/Platillos/espagueti-pom.svg\").scale(.7),\n",
    "                SVGMobject(\"Food/Platillos/espagueti-par.svg\").scale(.7),\n",
    "                SVGMobject(\"Food/Platillos/espagueti-ajo.svg\").scale(.7), \n",
    "                SVGMobject(\"Food/Platillos/espagueti-pesto.svg\").scale(.7),\n",
    "                SVGMobject(\"Food/Platillos/espagueti-cham.svg\").scale(.7)],\n",
    "               [SVGMobject(\"Food/fusili.svg\"),SVGMobject(\"Food/Platillos/fusili-pom.svg\").scale(.6),\n",
    "                SVGMobject(\"Food/Platillos/fusili-par.svg\").scale(.6),\n",
    "                SVGMobject(\"Food/Platillos/fusili-ajo.svg\").scale(.6), \n",
    "                SVGMobject(\"Food/Platillos/fusili-pesto.svg\").scale(.6),\n",
    "                SVGMobject(\"Food/Platillos/fusili-cham.svg\").scale(.6)],\n",
    "               [SVGMobject(\"Food/macaroni.svg\"),SVGMobject(\"Food/Platillos/macaroni-pom.svg\").scale(.7),\n",
    "                SVGMobject(\"Food/Platillos/macaroni-par.svg\").scale(.7),\n",
    "                SVGMobject(\"Food/Platillos/macaroni-ajo.svg\").scale(.7), \n",
    "                SVGMobject(\"Food/Platillos/macaroni-pesto.svg\").scale(.7),\n",
    "                SVGMobject(\"Food/Platillos/macaroni-cham.svg\").scale(.7)]]\n",
    "    return matriz\n",
    "\n"
   ]
  },
  {
   "cell_type": "code",
   "execution_count": 101,
   "metadata": {},
   "outputs": [],
   "source": [
    "def transpose_matrix(matrix):\n",
    "    transpuesta = [[0] * len(matrix) for _ in range(len(matrix[0]))]\n",
    "\n",
    "    for i in range(len(matrix)):\n",
    "        for j in range(len(matrix[0])):\n",
    "            transpuesta[j][i] = matrix[i][j]\n",
    "\n",
    "    return transpuesta\n"
   ]
  },
  {
   "cell_type": "code",
   "execution_count": 102,
   "metadata": {},
   "outputs": [],
   "source": [
    "m = [\n",
    "    [1, 2, 3, 4, 5, 6],\n",
    "    [7, 8, 9, 10, 11, 12],\n",
    "    [13, 14, 15, 16, 17, 18],\n",
    "    [19, 20, 21, 22, 23, 24]\n",
    "]\n",
    "\n",
    "\n",
    "def combPastaSencilla(matrizCompleta,tipos1, tipos2):\n",
    "    submatriz = [[matrizCompleta[i][j] for j in tipos2] for i in tipos1]\n",
    "    tipos2 = submatriz[0][1:]\n",
    "    combinaciones = [fila[0] for fila in submatriz]\n",
    "    \n",
    "    for i in range(1, len(tipos1)):\n",
    "        copias_tipos2 =[copy.deepcopy(combinacion) for combinacion in tipos2]\n",
    "        combinaciones.extend(copias_tipos2)\n",
    "    \n",
    "    for j in range(1, len(tipos1)):\n",
    "        combinaciones.extend(submatriz[j][1:])\n",
    "            \n",
    "    combinaciones\n",
    "    \n",
    "    return combinaciones\n",
    "\n",
    "\n",
    "#submatriz = combPastaSencilla(m, [0,1,3], [0,1,4,5])\n",
    "#print(submatriz)"
   ]
  },
  {
   "cell_type": "code",
   "execution_count": 104,
   "metadata": {},
   "outputs": [],
   "source": [
    "def construirArbol(matrizCompleta,tipos1,tipos2, dist = .8):\n",
    "    \n",
    "    dec1 = len(tipos1) - 1\n",
    "    dec2 = len(tipos2) - 1\n",
    "    valores = [dec1,dec2,1]\n",
    "    coordenadas,aristas = multiplicar_valores(valores, dist)\n",
    "    \n",
    "    combinaciones = combPastaSencilla(matrizCompleta,tipos1,tipos2)\n",
    "    arbolNiveles = []\n",
    "    arbol = VGroup()\n",
    "        \n",
    "    i = 0\n",
    "    j=0\n",
    "    dec = [dec1,dec2,1]\n",
    "    k = 0\n",
    "    numAris = 1\n",
    "    for piso in coordenadas:\n",
    "        nivel = VGroup()\n",
    "        for punto in piso:\n",
    "            combinaciones[i].move_to(punto).scale(.3)\n",
    "            #self.play(Write(combinaciones[i]))\n",
    "            arbol.add(combinaciones[i])\n",
    "            nivel.add(combinaciones[i])\n",
    "            i +=1 \n",
    "        if k < len(dec):\n",
    "            numAris *= dec[k]\n",
    "            r = 0\n",
    "            while j < len(aristas) and r < numAris:\n",
    "                edge = Line(start=aristas[j][0], end=aristas[j][1])\n",
    "                edge.z_index = -5\n",
    "                #self.play(Write(edge))\n",
    "                arbol.add(edge)\n",
    "                nivel.add(edge)\n",
    "                j += 1\n",
    "                r += 1\n",
    "            \n",
    "        arbolNiveles.append(nivel)\n",
    "        k += 1\n",
    "\n",
    "    return (arbolNiveles, arbol, coordenadas,aristas)"
   ]
  },
  {
   "cell_type": "code",
   "execution_count": null,
   "metadata": {},
   "outputs": [],
   "source": [
    "%%manim -qm -v WARNING AddDots\n",
    "\n",
    "class AddDots(Scene):\n",
    "    def construct(self):\n",
    "        # Tu arreglo de coordenadas\n",
    "        tipos1 = [0,2]\n",
    "        tipos2 = [0,1,2]\n",
    "        \n",
    "        matrizCompleta = imagenesArbol()\n",
    "        submatriz = combPastaSencilla(m, [0,1,3], [0,1,4,5])\n",
    "        arbolNiveles, arbol,coordenadas,aristas = construirArbol(matrizCompleta,tipos1,tipos2,2.5,3.5,1)\n",
    "        \n",
    "        #self.add(arbol)\n",
    "        #self.play(Write(arbol), run_time = 7.5)\n",
    "        self.wait(1)\n",
    "        for obj in arbolNiveles:\n",
    "            group = VGroup(*obj)\n",
    "            self.add(group)\n",
    "            self.play(Write(group))"
   ]
  },
  {
   "cell_type": "code",
   "execution_count": 84,
   "metadata": {},
   "outputs": [
    {
     "name": "stderr",
     "output_type": "stream",
     "text": [
      "                                                                                                                       \r"
     ]
    },
    {
     "data": {
      "text/html": [
       "<video src=\"media\\jupyter\\AddDots@2023-10-21@11-55-11.mp4\" controls autoplay loop style=\"max-width: 60%;\"  >\n",
       "      Your browser does not support the <code>video</code> element.\n",
       "    </video>"
      ],
      "text/plain": [
       "<IPython.core.display.Video object>"
      ]
     },
     "metadata": {},
     "output_type": "display_data"
    }
   ],
   "source": [
    "%%manim -qm -v WARNING AddDots\n",
    "\n",
    "class AddDots(Scene):\n",
    "    def construct(self):\n",
    "        # Tu arreglo de coordenadas\n",
    "        tipos1 = [0,2]\n",
    "        tipos2 = [0,1,2,3]\n",
    "        \n",
    "        matrizCompleta = imagenesArbol()\n",
    "\n",
    "        arbolNiveles, arbol,coordenadas,aristas = construirArbol(matrizCompleta,tipos1,tipos2)\n",
    "        \n",
    "        #self.add(arbol)\n",
    "        #self.play(Write(arbol), run_time = 7.5)\n",
    "        self.wait(1)\n",
    "        for obj in arbolNiveles:\n",
    "            group = VGroup(*obj)\n",
    "            self.add(group)\n",
    "            self.play(Write(group))\n",
    "        \n",
    "        self.wait(1)\n",
    "        i = len(arbolNiveles)\n",
    "        j = 1\n",
    "        for coor in arbolNiveles[i-1]:\n",
    "            num = Integer(number=j).scale(1.5)\n",
    "            num.next_to(coor, RIGHT)\n",
    "            self.play(FadeIn(num),run_time=.2)\n",
    "            j += 1\n",
    "        \n",
    "        self.wait(1)\n",
    "        \n",
    "        matrizCompleta = transpose_matrix(imagenesArbol())\n",
    "        arbolNivele2, arbol2,coordenadas2,aristas2 = construirArbol(matrizCompleta,tipos2,tipos1)\n",
    "        \n",
    "        self.play(Transform(arbol, arbol2))\n",
    "        \n",
    "        self.wait(2)\n",
    "        \n",
    "        \n",
    "                #print(aristas)\n",
    "        #matrizCompleta = transpose_matrix(imagenesArbol())\n",
    "        #dots = VGroup(*[Dot(point) for point in coordenadas])\n",
    "        #edges = VGroup(*[Line(point[0], point[1]) for point in aristas])\n",
    "        #self.add(dots, edges)"
   ]
  },
  {
   "cell_type": "code",
   "execution_count": null,
   "metadata": {},
   "outputs": [],
   "source": []
  },
  {
   "cell_type": "code",
   "execution_count": 74,
   "metadata": {},
   "outputs": [
    {
     "name": "stderr",
     "output_type": "stream",
     "text": [
      "                                                                                                                       \r"
     ]
    },
    {
     "data": {
      "text/html": [
       "<video src=\"media\\jupyter\\SVGExample@2023-10-21@11-35-23.mp4\" controls autoplay loop style=\"max-width: 60%;\"  >\n",
       "      Your browser does not support the <code>video</code> element.\n",
       "    </video>"
      ],
      "text/plain": [
       "<IPython.core.display.Video object>"
      ]
     },
     "metadata": {},
     "output_type": "display_data"
    }
   ],
   "source": [
    "%%manim -qm -v WARNING SVGExample\n",
    "\n",
    "class SVGExample(Scene):\n",
    "    def construct(self):        \n",
    "        r = SVGMobject(\"Food/restaurante.svg\")\n",
    "        r.scale(3.3)\n",
    "        restaurant = Text('IRISFERA', color=BLACK)\n",
    "        restaurant.move_to([-0.1, 1.5, 0]).scale(1.1)\n",
    "        self.play(Write(r), run_time=2)\n",
    "        self.play(Write(restaurant))\n",
    "        self.play(restaurant.animate.move_to([-13, 17, 0]).scale(6), \n",
    "                  FadeOut(r, target_position= [-12, 5, 0], scale=7.5), \n",
    "                  run_time=1)\n",
    "        \n",
    "        # Crea el primer bloque de texto \"Tipos de pasta\"\n",
    "        tipos1 = Tex(\"3 tipos\")\n",
    "        pasta = Tex(\"de pasta\")\n",
    "        \n",
    "        #Agregar tipos de pasta\n",
    "        espagueti = SVGMobject(\"Food/espagueti.svg\")\n",
    "        espagueti.move_to((np.array([-5, 2, 0]))).scale(1.5)\n",
    "\n",
    "        \n",
    "        fusili = SVGMobject(\"Food/fusili.svg\")\n",
    "        fusili.move_to((np.array([-2, 2, 0]))).scale(1)\n",
    "        \n",
    "        macaroni = SVGMobject(\"Food/macaroni.svg\")\n",
    "        macaroni.move_to((np.array([1, 2, 0]))).scale(1)\n",
    "        \n",
    "        \n",
    "        # Define las posiciones de las líneas\n",
    "        tipos1.next_to(ORIGIN, LEFT)\n",
    "        pasta.next_to(tipos1, RIGHT)\n",
    "        self.play(Write(tipos1))\n",
    "        self.play(Write(pasta))\n",
    "\n",
    "        self.play(\n",
    "            tipos1.animate.move_to([5, 2.5, 0]),\n",
    "            pasta.animate.next_to([5, 2.5, 0], DOWN),\n",
    "            Write(espagueti), run_time = .4\n",
    "        )\n",
    "        \n",
    "        self.play(Write(fusili), run_time=.4)\n",
    "        self.play(Write(macaroni), run_time=.4)\n",
    "        \n",
    "        \n",
    "        # Crea el segundo bloque de texto \"Tipos de salsa\"\n",
    "        tipos2 = Tex(\"3 tipos\")\n",
    "        salsa = Tex(\"de salsa\")\n",
    "        \n",
    "        # Tipos de salsa\n",
    "        salsaPom = SVGMobject(\"Food/SalsaPomodoro.svg\")\n",
    "        salsaPom.move_to((np.array([-5, -2, 0]))).scale(1.5)\n",
    "        \n",
    "        salsaPam = SVGMobject(\"Food/SalsaParmesano.svg\")\n",
    "        salsaPam.move_to((np.array([-2, -2, 0]))).scale(1.5)\n",
    "        \n",
    "        \n",
    "        salsaAjo = SVGMobject(\"Food/SalsaAjo.svg\")\n",
    "        salsaAjo.move_to((np.array([1, -2, 0]))).scale(1.5)\n",
    "        \n",
    "        # Define las posiciones de las líneas\n",
    "        tipos2.next_to(ORIGIN, LEFT)\n",
    "        salsa.next_to(tipos2, RIGHT)\n",
    "        self.play(Write(tipos2))\n",
    "        self.play(Write(salsa))\n",
    "\n",
    "        self.play(\n",
    "            salsa.animate.move_to([5, -2.5, 0]),\n",
    "            tipos2.animate.next_to([5, -2.5, 0], UP),\n",
    "            Write(salsaPom), run_time = .8\n",
    "        )\n",
    "        \n",
    "        self.play(Write(salsaPam), run_time=.8)\n",
    "        self.play(Write(salsaAjo), run_time=1)\n",
    "        preg = Text('¿Cuántas opciones de pasta tiene una persona para elegir? ', color=RED, font_size = 30)\n",
    "        self.play(Write(preg))\n",
    "        self.wait(2)\n",
    "        \n",
    "        self.play(FadeOut(preg), FadeOut(tipos1), FadeOut(pasta), FadeOut(tipos2), FadeOut(salsa),\n",
    "                  FadeOut(espagueti), FadeOut(macaroni)\n",
    "                 )\n",
    "        \n",
    "        self.play(fusili.animate.move_to([-5, 0, 0]), \n",
    "                  salsaPom.animate.move_to([1, -2.5, 0]).scale(.7),\n",
    "                  salsaPam.animate.move_to([1, 0, 0]).scale(.7),\n",
    "                  salsaAjo.animate.move_to([1, 2.5, 0]).scale(.7), \n",
    "                  run_time = 1\n",
    "                 )\n",
    "        edge1 = Line(start=fusili.get_center(), end=salsaPom.get_center())\n",
    "        edge1.z_index = -1\n",
    "        edge2 = Line(start=fusili.get_center(), end=salsaPam.get_center())\n",
    "        edge2.z_index = -1\n",
    "        edge3 = Line(start=fusili.get_center(), end=salsaAjo.get_center())\n",
    "        edge3.z_index = -1\n",
    "        self.play(Create(edge1), Create(edge2), Create(edge3))\n",
    "\n",
    "        fusPom = SVGMobject(\"Food/Platillos/fusili-pom.svg\")\n",
    "        fusPom.move_to([4.5, -2.5, 0]).scale(.5)\n",
    "        fusPam = SVGMobject(\"Food/Platillos/fusili-par.svg\")\n",
    "        fusPam.move_to([4.5, 0, 0]).scale(.5)\n",
    "        fusAjo = SVGMobject(\"Food/Platillos/fusili-ajo.svg\")\n",
    "        fusAjo.move_to([4.5, 2.5, 0]).scale(.5)\n",
    "        self.play(Write(fusPom), Write(fusPam),Write(fusAjo),  run_time=1.4)\n",
    "        edge4 = Line(start=salsaPom.get_center(), end=fusPom.get_center())\n",
    "        edge4.z_index = -1\n",
    "        edge5 = Line(start=salsaPam.get_center(), end=fusPam.get_center())\n",
    "        edge5.z_index = -1\n",
    "        edge6 = Line(start=salsaAjo.get_center(), end=fusAjo.get_center())\n",
    "        edge6.z_index = -1\n",
    "        arbol0 = VGroup()\n",
    "        arbol0.add(fusili)\n",
    "        arbol0.add(fusPom)\n",
    "        arbol0.add(fusPam)\n",
    "        arbol0.add(fusAjo)\n",
    "        arbol0.add(edge4)\n",
    "        arbol0.add(edge5)\n",
    "        arbol0.add(edge6)\n",
    "        self.play(Create(edge4), Create(edge5), Create(edge6))\n",
    "        \n",
    "        self.wait(2)\n",
    "        \n",
    "                # Tu arreglo de coordenadas\n",
    "        tipos1 = [0,1,2,3]\n",
    "        tipos2 = [0,1,2,3]\n",
    "        \n",
    "        matrizCompleta = imagenesArbol()\n",
    "\n",
    "        arbolNiveles, arbol,coordenadas,aristas = construirArbol(matrizCompleta,tipos1,tipos2)\n",
    "        self.play(Transform(arbol0, arbol))\n",
    "        #self.add(arbol)\n",
    "        #self.play(Write(arbol), run_time = 7.5)\n",
    "        self.wait(1)\n",
    "        #for obj in arbolNiveles:\n",
    "        #    group = VGroup(*obj)\n",
    "        #    self.add(group)\n",
    "        #    self.play(Write(group))\n",
    "        #\n",
    "        self.wait(1)\n",
    "        i = len(arbolNiveles)\n",
    "        j = 1\n",
    "        for coor in arbolNiveles[i-1]:\n",
    "            num = Integer(number=j).scale(1.5)\n",
    "            num.next_to(coor, RIGHT)\n",
    "            self.play(FadeIn(num),run_time=.2)\n",
    "            j += 1\n",
    "        \n",
    "        self.wait(1)\n",
    "        \n",
    "        matrizCompleta = transpose_matrix(imagenesArbol())\n",
    "        arbolNivele2, arbol2,coordenadas2,aristas2 = construirArbol(matrizCompleta,tipos2,tipos1)\n",
    "        \n",
    "        self.play(Transform(arbol, arbol2))\n",
    "        \n",
    "        self.wait(2)\n",
    "        "
   ]
  },
  {
   "cell_type": "code",
   "execution_count": null,
   "metadata": {},
   "outputs": [],
   "source": []
  },
  {
   "cell_type": "code",
   "execution_count": null,
   "metadata": {},
   "outputs": [],
   "source": []
  },
  {
   "cell_type": "code",
   "execution_count": null,
   "metadata": {},
   "outputs": [],
   "source": []
  },
  {
   "cell_type": "code",
   "execution_count": null,
   "metadata": {},
   "outputs": [],
   "source": []
  },
  {
   "cell_type": "code",
   "execution_count": null,
   "metadata": {},
   "outputs": [],
   "source": []
  },
  {
   "cell_type": "code",
   "execution_count": null,
   "metadata": {},
   "outputs": [],
   "source": []
  },
  {
   "cell_type": "code",
   "execution_count": null,
   "metadata": {},
   "outputs": [],
   "source": []
  },
  {
   "cell_type": "code",
   "execution_count": null,
   "metadata": {},
   "outputs": [],
   "source": []
  },
  {
   "cell_type": "code",
   "execution_count": null,
   "metadata": {},
   "outputs": [],
   "source": []
  },
  {
   "cell_type": "code",
   "execution_count": null,
   "metadata": {},
   "outputs": [],
   "source": []
  },
  {
   "cell_type": "code",
   "execution_count": null,
   "metadata": {},
   "outputs": [],
   "source": []
  },
  {
   "cell_type": "code",
   "execution_count": null,
   "metadata": {},
   "outputs": [],
   "source": []
  },
  {
   "cell_type": "code",
   "execution_count": 38,
   "metadata": {},
   "outputs": [
    {
     "ename": "IndexError",
     "evalue": "list index out of range",
     "output_type": "error",
     "traceback": [
      "\u001b[1;31m---------------------------------------------------------------------------\u001b[0m",
      "\u001b[1;31mIndexError\u001b[0m                                Traceback (most recent call last)",
      "\u001b[1;32m<ipython-input-38-a472979df7c6>\u001b[0m in \u001b[0;36m<module>\u001b[1;34m\u001b[0m\n\u001b[1;32m----> 1\u001b[1;33m \u001b[0mget_ipython\u001b[0m\u001b[1;33m(\u001b[0m\u001b[1;33m)\u001b[0m\u001b[1;33m.\u001b[0m\u001b[0mrun_cell_magic\u001b[0m\u001b[1;33m(\u001b[0m\u001b[1;34m'manim'\u001b[0m\u001b[1;33m,\u001b[0m \u001b[1;34m'-qm -v WARNING AddDots'\u001b[0m\u001b[1;33m,\u001b[0m \u001b[1;34m'\\nclass AddDots(Scene):\\n    def construct(self):\\n        # Tu arreglo de coordenadas\\n        tipos1 = [0,1,2,3]\\n        tipos2 = [0,1,2,3]\\n\\n        #print(aristas)\\n        #matrizCompleta = transpose_matrix(imagenesArbol())\\n        matrizCompleta = imagenesArbol()\\n\\n        arbolNiveles, arbol,coordenadas,aristas = construirArbol(matrizCompleta,tipos1,tipos2)\\n        \\n        #self.add(arbol)\\n        #self.play(Write(arbol), run_time = 7.5)\\n        self.wait(1)\\n        #self.play(Write(arbolNiveles[1]))\\n        #self.play(Write(arbolNiveles[2]))\\n        #self.play(arbolNiveles[1].animate.scale(2) )\\n        for obj in arbolNiveles:\\n            group = VGroup(*obj)\\n            self.add(group)\\n            self.play(Write(group))\\n        \\n        self.wait(1)\\n        i = len(arbolNiveles)\\n        j = 1\\n        for coor in arbolNiveles[i-1]:\\n            num = Integer(number=j).scale(1.5)\\n            num.next_to(coor, RIGHT)\\n            self.play(FadeIn(num),run_time=.2)\\n            j += 1\\n        #obj.scale(2)\\n        #grupo = VGroup(*arbolNiveles[1])\\n        #print(arbolNiveles[1])\\n        \\n        #self.play(arbolNiveles[1][0].animate.scale(2),arbolNiveles[1][2].animate.scale(2))\\n        #self.play(arbolNiveles[1][0].animate.scale(.5),arbolNiveles[1][2].animate.scale(.5))\\n        #self.wait(2)\\n        #self.play(arbolNiveles[2][0].animate.scale(1.2),arbolNiveles[2][2].animate.scale(1.2) )\\n        self.wait(1)\\n        #self.play(arbolNiveles[2][0].animate.scale(.83),arbolNiveles[2][2].animate.scale(.83))\\n        \\n        \\n        #print(arbolNiveles[1][0])\\n        #self.play(arbolNiveles[1][0].animate.scale(2),arbolNiveles[1][2].animate.scale(2))\\n        #self.play(arbolNiveles[1][4].animate.scale(2))\\n        #self.wait(1)\\n        #self.play(arbolNiveles[1][0].animate.scale(.5),arbolNiveles[1][2].animate.scale(.5))\\n        #self.wait(1)\\n        #self.play(arbolNiveles[2][0].animate.scale(2),arbolNiveles[2][2].animate.scale(2),arbolNiveles[2][4].animate.scale(2))\\n                # print(punto)\\n                \\n        #print(aristas)\\n        # Crea una instancia de Dot para cada coordenada y agrégalos a la escena\\n        #dots = VGroup(*[Dot(point) for point in coordenadas])\\n        #edges = VGroup(*[Line(point[0], point[1]) for point in aristas])\\n        #self.add(dots, edges)\\n'\u001b[0m\u001b[1;33m)\u001b[0m\u001b[1;33m\u001b[0m\u001b[1;33m\u001b[0m\u001b[0m\n\u001b[0m",
      "\u001b[1;32m~\\Anaconda3\\lib\\site-packages\\IPython\\core\\interactiveshell.py\u001b[0m in \u001b[0;36mrun_cell_magic\u001b[1;34m(self, magic_name, line, cell)\u001b[0m\n\u001b[0;32m   2471\u001b[0m             \u001b[1;32mwith\u001b[0m \u001b[0mself\u001b[0m\u001b[1;33m.\u001b[0m\u001b[0mbuiltin_trap\u001b[0m\u001b[1;33m:\u001b[0m\u001b[1;33m\u001b[0m\u001b[1;33m\u001b[0m\u001b[0m\n\u001b[0;32m   2472\u001b[0m                 \u001b[0margs\u001b[0m \u001b[1;33m=\u001b[0m \u001b[1;33m(\u001b[0m\u001b[0mmagic_arg_s\u001b[0m\u001b[1;33m,\u001b[0m \u001b[0mcell\u001b[0m\u001b[1;33m)\u001b[0m\u001b[1;33m\u001b[0m\u001b[1;33m\u001b[0m\u001b[0m\n\u001b[1;32m-> 2473\u001b[1;33m                 \u001b[0mresult\u001b[0m \u001b[1;33m=\u001b[0m \u001b[0mfn\u001b[0m\u001b[1;33m(\u001b[0m\u001b[1;33m*\u001b[0m\u001b[0margs\u001b[0m\u001b[1;33m,\u001b[0m \u001b[1;33m**\u001b[0m\u001b[0mkwargs\u001b[0m\u001b[1;33m)\u001b[0m\u001b[1;33m\u001b[0m\u001b[1;33m\u001b[0m\u001b[0m\n\u001b[0m\u001b[0;32m   2474\u001b[0m             \u001b[1;32mreturn\u001b[0m \u001b[0mresult\u001b[0m\u001b[1;33m\u001b[0m\u001b[1;33m\u001b[0m\u001b[0m\n\u001b[0;32m   2475\u001b[0m \u001b[1;33m\u001b[0m\u001b[0m\n",
      "\u001b[1;32m~\\Anaconda3\\lib\\site-packages\\decorator.py\u001b[0m in \u001b[0;36mfun\u001b[1;34m(*args, **kw)\u001b[0m\n\u001b[0;32m    230\u001b[0m             \u001b[1;32mif\u001b[0m \u001b[1;32mnot\u001b[0m \u001b[0mkwsyntax\u001b[0m\u001b[1;33m:\u001b[0m\u001b[1;33m\u001b[0m\u001b[1;33m\u001b[0m\u001b[0m\n\u001b[0;32m    231\u001b[0m                 \u001b[0margs\u001b[0m\u001b[1;33m,\u001b[0m \u001b[0mkw\u001b[0m \u001b[1;33m=\u001b[0m \u001b[0mfix\u001b[0m\u001b[1;33m(\u001b[0m\u001b[0margs\u001b[0m\u001b[1;33m,\u001b[0m \u001b[0mkw\u001b[0m\u001b[1;33m,\u001b[0m \u001b[0msig\u001b[0m\u001b[1;33m)\u001b[0m\u001b[1;33m\u001b[0m\u001b[1;33m\u001b[0m\u001b[0m\n\u001b[1;32m--> 232\u001b[1;33m             \u001b[1;32mreturn\u001b[0m \u001b[0mcaller\u001b[0m\u001b[1;33m(\u001b[0m\u001b[0mfunc\u001b[0m\u001b[1;33m,\u001b[0m \u001b[1;33m*\u001b[0m\u001b[1;33m(\u001b[0m\u001b[0mextras\u001b[0m \u001b[1;33m+\u001b[0m \u001b[0margs\u001b[0m\u001b[1;33m)\u001b[0m\u001b[1;33m,\u001b[0m \u001b[1;33m**\u001b[0m\u001b[0mkw\u001b[0m\u001b[1;33m)\u001b[0m\u001b[1;33m\u001b[0m\u001b[1;33m\u001b[0m\u001b[0m\n\u001b[0m\u001b[0;32m    233\u001b[0m     \u001b[0mfun\u001b[0m\u001b[1;33m.\u001b[0m\u001b[0m__name__\u001b[0m \u001b[1;33m=\u001b[0m \u001b[0mfunc\u001b[0m\u001b[1;33m.\u001b[0m\u001b[0m__name__\u001b[0m\u001b[1;33m\u001b[0m\u001b[1;33m\u001b[0m\u001b[0m\n\u001b[0;32m    234\u001b[0m     \u001b[0mfun\u001b[0m\u001b[1;33m.\u001b[0m\u001b[0m__doc__\u001b[0m \u001b[1;33m=\u001b[0m \u001b[0mfunc\u001b[0m\u001b[1;33m.\u001b[0m\u001b[0m__doc__\u001b[0m\u001b[1;33m\u001b[0m\u001b[1;33m\u001b[0m\u001b[0m\n",
      "\u001b[1;32m~\\Anaconda3\\lib\\site-packages\\IPython\\core\\magic.py\u001b[0m in \u001b[0;36m<lambda>\u001b[1;34m(f, *a, **k)\u001b[0m\n\u001b[0;32m    185\u001b[0m     \u001b[1;31m# but it's overkill for just that one bit of state.\u001b[0m\u001b[1;33m\u001b[0m\u001b[1;33m\u001b[0m\u001b[1;33m\u001b[0m\u001b[0m\n\u001b[0;32m    186\u001b[0m     \u001b[1;32mdef\u001b[0m \u001b[0mmagic_deco\u001b[0m\u001b[1;33m(\u001b[0m\u001b[0marg\u001b[0m\u001b[1;33m)\u001b[0m\u001b[1;33m:\u001b[0m\u001b[1;33m\u001b[0m\u001b[1;33m\u001b[0m\u001b[0m\n\u001b[1;32m--> 187\u001b[1;33m         \u001b[0mcall\u001b[0m \u001b[1;33m=\u001b[0m \u001b[1;32mlambda\u001b[0m \u001b[0mf\u001b[0m\u001b[1;33m,\u001b[0m \u001b[1;33m*\u001b[0m\u001b[0ma\u001b[0m\u001b[1;33m,\u001b[0m \u001b[1;33m**\u001b[0m\u001b[0mk\u001b[0m\u001b[1;33m:\u001b[0m \u001b[0mf\u001b[0m\u001b[1;33m(\u001b[0m\u001b[1;33m*\u001b[0m\u001b[0ma\u001b[0m\u001b[1;33m,\u001b[0m \u001b[1;33m**\u001b[0m\u001b[0mk\u001b[0m\u001b[1;33m)\u001b[0m\u001b[1;33m\u001b[0m\u001b[1;33m\u001b[0m\u001b[0m\n\u001b[0m\u001b[0;32m    188\u001b[0m \u001b[1;33m\u001b[0m\u001b[0m\n\u001b[0;32m    189\u001b[0m         \u001b[1;32mif\u001b[0m \u001b[0mcallable\u001b[0m\u001b[1;33m(\u001b[0m\u001b[0marg\u001b[0m\u001b[1;33m)\u001b[0m\u001b[1;33m:\u001b[0m\u001b[1;33m\u001b[0m\u001b[1;33m\u001b[0m\u001b[0m\n",
      "\u001b[1;32m~\\Anaconda3\\lib\\site-packages\\manim\\utils\\ipython_magic.py\u001b[0m in \u001b[0;36mmanim\u001b[1;34m(self, line, cell, local_ns)\u001b[0m\n\u001b[0;32m    148\u001b[0m                     \u001b[0mSceneClass\u001b[0m \u001b[1;33m=\u001b[0m \u001b[0mlocal_ns\u001b[0m\u001b[1;33m[\u001b[0m\u001b[0mconfig\u001b[0m\u001b[1;33m[\u001b[0m\u001b[1;34m\"scene_names\"\u001b[0m\u001b[1;33m]\u001b[0m\u001b[1;33m[\u001b[0m\u001b[1;36m0\u001b[0m\u001b[1;33m]\u001b[0m\u001b[1;33m]\u001b[0m\u001b[1;33m\u001b[0m\u001b[1;33m\u001b[0m\u001b[0m\n\u001b[0;32m    149\u001b[0m                     \u001b[0mscene\u001b[0m \u001b[1;33m=\u001b[0m \u001b[0mSceneClass\u001b[0m\u001b[1;33m(\u001b[0m\u001b[0mrenderer\u001b[0m\u001b[1;33m=\u001b[0m\u001b[0mrenderer\u001b[0m\u001b[1;33m)\u001b[0m\u001b[1;33m\u001b[0m\u001b[1;33m\u001b[0m\u001b[0m\n\u001b[1;32m--> 150\u001b[1;33m                     \u001b[0mscene\u001b[0m\u001b[1;33m.\u001b[0m\u001b[0mrender\u001b[0m\u001b[1;33m(\u001b[0m\u001b[1;33m)\u001b[0m\u001b[1;33m\u001b[0m\u001b[1;33m\u001b[0m\u001b[0m\n\u001b[0m\u001b[0;32m    151\u001b[0m                 \u001b[1;32mfinally\u001b[0m\u001b[1;33m:\u001b[0m\u001b[1;33m\u001b[0m\u001b[1;33m\u001b[0m\u001b[0m\n\u001b[0;32m    152\u001b[0m                     \u001b[1;31m# Shader cache becomes invalid as the context is destroyed\u001b[0m\u001b[1;33m\u001b[0m\u001b[1;33m\u001b[0m\u001b[1;33m\u001b[0m\u001b[0m\n",
      "\u001b[1;32m~\\Anaconda3\\lib\\site-packages\\manim\\scene\\scene.py\u001b[0m in \u001b[0;36mrender\u001b[1;34m(self, preview)\u001b[0m\n\u001b[0;32m    220\u001b[0m         \u001b[0mself\u001b[0m\u001b[1;33m.\u001b[0m\u001b[0msetup\u001b[0m\u001b[1;33m(\u001b[0m\u001b[1;33m)\u001b[0m\u001b[1;33m\u001b[0m\u001b[1;33m\u001b[0m\u001b[0m\n\u001b[0;32m    221\u001b[0m         \u001b[1;32mtry\u001b[0m\u001b[1;33m:\u001b[0m\u001b[1;33m\u001b[0m\u001b[1;33m\u001b[0m\u001b[0m\n\u001b[1;32m--> 222\u001b[1;33m             \u001b[0mself\u001b[0m\u001b[1;33m.\u001b[0m\u001b[0mconstruct\u001b[0m\u001b[1;33m(\u001b[0m\u001b[1;33m)\u001b[0m\u001b[1;33m\u001b[0m\u001b[1;33m\u001b[0m\u001b[0m\n\u001b[0m\u001b[0;32m    223\u001b[0m         \u001b[1;32mexcept\u001b[0m \u001b[0mEndSceneEarlyException\u001b[0m\u001b[1;33m:\u001b[0m\u001b[1;33m\u001b[0m\u001b[1;33m\u001b[0m\u001b[0m\n\u001b[0;32m    224\u001b[0m             \u001b[1;32mpass\u001b[0m\u001b[1;33m\u001b[0m\u001b[1;33m\u001b[0m\u001b[0m\n",
      "\u001b[1;32m<string>\u001b[0m in \u001b[0;36mconstruct\u001b[1;34m(self)\u001b[0m\n",
      "\u001b[1;32m<ipython-input-26-fa1ce8b31786>\u001b[0m in \u001b[0;36mconstruirArbol\u001b[1;34m(matrizCompleta, tipos1, tipos2, dist)\u001b[0m\n\u001b[0;32m     22\u001b[0m                 \u001b[0medge\u001b[0m \u001b[1;33m=\u001b[0m \u001b[0mLine\u001b[0m\u001b[1;33m(\u001b[0m\u001b[0mstart\u001b[0m\u001b[1;33m=\u001b[0m\u001b[0maristas\u001b[0m\u001b[1;33m[\u001b[0m\u001b[0mi\u001b[0m\u001b[1;33m]\u001b[0m\u001b[1;33m[\u001b[0m\u001b[1;36m0\u001b[0m\u001b[1;33m]\u001b[0m\u001b[1;33m,\u001b[0m \u001b[0mend\u001b[0m\u001b[1;33m=\u001b[0m\u001b[0maristas\u001b[0m\u001b[1;33m[\u001b[0m\u001b[0mi\u001b[0m\u001b[1;33m]\u001b[0m\u001b[1;33m[\u001b[0m\u001b[1;36m1\u001b[0m\u001b[1;33m]\u001b[0m\u001b[1;33m)\u001b[0m\u001b[1;33m\u001b[0m\u001b[1;33m\u001b[0m\u001b[0m\n\u001b[0;32m     23\u001b[0m                 \u001b[0medge\u001b[0m\u001b[1;33m.\u001b[0m\u001b[0mz_index\u001b[0m \u001b[1;33m=\u001b[0m \u001b[1;33m-\u001b[0m\u001b[1;36m5\u001b[0m\u001b[1;33m\u001b[0m\u001b[1;33m\u001b[0m\u001b[0m\n\u001b[1;32m---> 24\u001b[1;33m                 \u001b[0medge2\u001b[0m \u001b[1;33m=\u001b[0m \u001b[0mLine\u001b[0m\u001b[1;33m(\u001b[0m\u001b[0mstart\u001b[0m\u001b[1;33m=\u001b[0m\u001b[0maristas\u001b[0m\u001b[1;33m[\u001b[0m\u001b[0mi\u001b[0m\u001b[1;33m+\u001b[0m\u001b[1;36m1\u001b[0m\u001b[1;33m]\u001b[0m\u001b[1;33m[\u001b[0m\u001b[1;36m0\u001b[0m\u001b[1;33m]\u001b[0m\u001b[1;33m,\u001b[0m \u001b[0mend\u001b[0m\u001b[1;33m=\u001b[0m\u001b[0maristas\u001b[0m\u001b[1;33m[\u001b[0m\u001b[0mi\u001b[0m\u001b[1;33m+\u001b[0m\u001b[1;36m1\u001b[0m\u001b[1;33m]\u001b[0m\u001b[1;33m[\u001b[0m\u001b[1;36m1\u001b[0m\u001b[1;33m]\u001b[0m\u001b[1;33m)\u001b[0m\u001b[1;33m\u001b[0m\u001b[1;33m\u001b[0m\u001b[0m\n\u001b[0m\u001b[0;32m     25\u001b[0m                 \u001b[0medge2\u001b[0m\u001b[1;33m.\u001b[0m\u001b[0mz_index\u001b[0m \u001b[1;33m=\u001b[0m \u001b[1;33m-\u001b[0m\u001b[1;36m5\u001b[0m\u001b[1;33m\u001b[0m\u001b[1;33m\u001b[0m\u001b[0m\n\u001b[0;32m     26\u001b[0m                 \u001b[1;31m#self.play(Write(edge))\u001b[0m\u001b[1;33m\u001b[0m\u001b[1;33m\u001b[0m\u001b[1;33m\u001b[0m\u001b[0m\n",
      "\u001b[1;31mIndexError\u001b[0m: list index out of range"
     ]
    }
   ],
   "source": [
    "%%manim -qm -v WARNING AddDots\n",
    "\n",
    "class AddDots(Scene):\n",
    "    def construct(self):\n",
    "        # Tu arreglo de coordenadas\n",
    "        tipos1 = [0,1,2,3]\n",
    "        tipos2 = [0,1,2,3]\n",
    "\n",
    "        #print(aristas)\n",
    "        #matrizCompleta = transpose_matrix(imagenesArbol())\n",
    "        matrizCompleta = imagenesArbol()\n",
    "\n",
    "        arbolNiveles, arbol,coordenadas,aristas = construirArbol(matrizCompleta,tipos1,tipos2)\n",
    "        \n",
    "        #self.add(arbol)\n",
    "        #self.play(Write(arbol), run_time = 7.5)\n",
    "        self.wait(1)\n",
    "        #self.play(Write(arbolNiveles[1]))\n",
    "        #self.play(Write(arbolNiveles[2]))\n",
    "        #self.play(arbolNiveles[1].animate.scale(2) )\n",
    "        for obj in arbolNiveles:\n",
    "            group = VGroup(*obj)\n",
    "            self.add(group)\n",
    "            self.play(Write(group))\n",
    "        \n",
    "        self.wait(1)\n",
    "        i = len(arbolNiveles)\n",
    "        j = 1\n",
    "        for coor in arbolNiveles[i-1]:\n",
    "            num = Integer(number=j).scale(1.5)\n",
    "            num.next_to(coor, RIGHT)\n",
    "            self.play(FadeIn(num),run_time=.2)\n",
    "            j += 1\n",
    "        #obj.scale(2)\n",
    "        #grupo = VGroup(*arbolNiveles[1])\n",
    "        #print(arbolNiveles[1])\n",
    "        \n",
    "        #self.play(arbolNiveles[1][0].animate.scale(2),arbolNiveles[1][2].animate.scale(2))\n",
    "        #self.play(arbolNiveles[1][0].animate.scale(.5),arbolNiveles[1][2].animate.scale(.5))\n",
    "        #self.wait(2)\n",
    "        #self.play(arbolNiveles[2][0].animate.scale(1.2),arbolNiveles[2][2].animate.scale(1.2) )\n",
    "        self.wait(1)\n",
    "        #self.play(arbolNiveles[2][0].animate.scale(.83),arbolNiveles[2][2].animate.scale(.83))\n",
    "        \n",
    "        \n",
    "        #print(arbolNiveles[1][0])\n",
    "        #self.play(arbolNiveles[1][0].animate.scale(2),arbolNiveles[1][2].animate.scale(2))\n",
    "        #self.play(arbolNiveles[1][4].animate.scale(2))\n",
    "        #self.wait(1)\n",
    "        #self.play(arbolNiveles[1][0].animate.scale(.5),arbolNiveles[1][2].animate.scale(.5))\n",
    "        #self.wait(1)\n",
    "        #self.play(arbolNiveles[2][0].animate.scale(2),arbolNiveles[2][2].animate.scale(2),arbolNiveles[2][4].animate.scale(2))\n",
    "                # print(punto)\n",
    "                \n",
    "        #print(aristas)\n",
    "        # Crea una instancia de Dot para cada coordenada y agrégalos a la escena\n",
    "        #dots = VGroup(*[Dot(point) for point in coordenadas])\n",
    "        #edges = VGroup(*[Line(point[0], point[1]) for point in aristas])\n",
    "        #self.add(dots, edges)"
   ]
  },
  {
   "cell_type": "code",
   "execution_count": null,
   "metadata": {},
   "outputs": [],
   "source": []
  },
  {
   "cell_type": "code",
   "execution_count": null,
   "metadata": {},
   "outputs": [],
   "source": []
  },
  {
   "cell_type": "code",
   "execution_count": null,
   "metadata": {},
   "outputs": [],
   "source": []
  },
  {
   "cell_type": "code",
   "execution_count": null,
   "metadata": {},
   "outputs": [],
   "source": []
  },
  {
   "cell_type": "code",
   "execution_count": null,
   "metadata": {},
   "outputs": [],
   "source": []
  },
  {
   "cell_type": "code",
   "execution_count": null,
   "metadata": {},
   "outputs": [],
   "source": []
  },
  {
   "cell_type": "code",
   "execution_count": 11,
   "metadata": {
    "scrolled": true
   },
   "outputs": [
    {
     "name": "stderr",
     "output_type": "stream",
     "text": [
      "                                                                                                                       \r"
     ]
    },
    {
     "name": "stdout",
     "output_type": "stream",
     "text": [
      "VGroup of 4 submobjects\n"
     ]
    },
    {
     "name": "stderr",
     "output_type": "stream",
     "text": [
      "                                                                                                                       \r"
     ]
    },
    {
     "data": {
      "text/html": [
       "<video src=\"media\\jupyter\\AddDots@2023-10-21@09-05-56.mp4\" controls autoplay loop style=\"max-width: 60%;\"  >\n",
       "      Your browser does not support the <code>video</code> element.\n",
       "    </video>"
      ],
      "text/plain": [
       "<IPython.core.display.Video object>"
      ]
     },
     "metadata": {},
     "output_type": "display_data"
    }
   ],
   "source": [
    "%%manim -qm -v WARNING AddDots\n",
    "\n",
    "class AddDots(Scene):\n",
    "    def construct(self):\n",
    "        # Tu arreglo de coordenadas\n",
    "        tipos1 = [0,1,2]\n",
    "        tipos2 = [0,1,2,5]\n",
    "        dec1 = len(tipos1) - 1\n",
    "        dec2 = len(tipos2) - 1\n",
    "        valores = [dec1,dec2,1]\n",
    "        coordenadas,aristas = multiplicar_valores(valores)\n",
    "        #print(aristas)\n",
    "        #matrizCompleta = transpose_matrix(imagenesArbol())\n",
    "        matrizCompleta = imagenesArbol()\n",
    "        combinaciones = combPastaSencilla(matrizCompleta,tipos1,tipos2)\n",
    "        \n",
    "        arbolNiveles = []\n",
    "        arbol1 = VGroup()\n",
    "        \n",
    "        i = 0\n",
    "        for piso in coordenadas:\n",
    "            nivel = VGroup()\n",
    "            for punto in piso:\n",
    "                combinaciones[i].move_to(punto).scale(.3)\n",
    "                self.play(Write(combinaciones[i]))\n",
    "                arbol1.add(combinaciones[i])\n",
    "                nivel.add(combinaciones[i])\n",
    "                if len(aristas) > i:\n",
    "                    edge = Line(start=aristas[i][0], end=aristas[i][1])\n",
    "                    edge.z_index = -5\n",
    "                    self.play(Write(edge))\n",
    "                    arbol1.add(edge)\n",
    "                    nivel.add(edge)\n",
    "                i += 1\n",
    "            arbolNiveles.append(nivel)\n",
    "                \n",
    "                \n",
    "        \n",
    "        #self.add(arbol)\n",
    "        #self.play(Write(arbol), run_time = 7.5)\n",
    "        self.wait(1)\n",
    "        #self.play(arbolNiveles[1].animate.scale(2) )\n",
    "       # for obj in arbolNiveles:\n",
    "       #     group = VGroup(*obj)\n",
    "       #     self.add(group)\n",
    "       #     self.play(Write(group))\n",
    "        #     obj.scale(2)\n",
    "        #grupo = VGroup(*arbolNiveles[1])\n",
    "        print(arbolNiveles[1])\n",
    "        #print(arbolNiveles[1][0])\n",
    "        self.play(arbolNiveles[1][0].animate.scale(2),arbolNiveles[1][2].animate.scale(2) )\n",
    "        self.wait(2)\n",
    "                # print(punto)\n",
    "                \n",
    "        #print(aristas)\n",
    "        # Crea una instancia de Dot para cada coordenada y agrégalos a la escena\n",
    "        #dots = VGroup(*[Dot(point) for point in coordenadas])\n",
    "        #edges = VGroup(*[Line(point[0], point[1]) for point in aristas])\n",
    "        #self.add(dots, edges)\n",
    "        "
   ]
  },
  {
   "cell_type": "code",
   "execution_count": null,
   "metadata": {},
   "outputs": [],
   "source": [
    "\n",
    "class SVGExample(Scene):\n",
    "    def construct(self):\n",
    "        matriz = imagenesArbol()\n",
    "        valores = [2,3,1]\n",
    "        renglon1 = [fila[0] for fila in matriz[1:]]\n",
    "        \n",
    "        coordenadas,aristas = multiplicar_valores(valores,1)\n",
    "        \n",
    "        for valor in coordenadas:\n",
    "            \n",
    "        \n",
    "        fusili.move_to((np.array([-2, 2, 0]))).scale(1)"
   ]
  },
  {
   "cell_type": "code",
   "execution_count": 98,
   "metadata": {},
   "outputs": [
    {
     "name": "stderr",
     "output_type": "stream",
     "text": [
      "                                                                                                                       \r"
     ]
    },
    {
     "data": {
      "text/html": [
       "<video src=\"media\\jupyter\\TransicionEntreFiguras@2023-10-18@20-50-32.mp4\" controls autoplay loop style=\"max-width: 60%;\"  >\n",
       "      Your browser does not support the <code>video</code> element.\n",
       "    </video>"
      ],
      "text/plain": [
       "<IPython.core.display.Video object>"
      ]
     },
     "metadata": {},
     "output_type": "display_data"
    }
   ],
   "source": [
    "%%manim -qm -v WARNING TransicionEntreFiguras\n",
    "\n",
    "class TransicionEntreFiguras(Scene):\n",
    "    def construct(self):\n",
    "        # Crea dos triángulos y tres cuadrados\n",
    "        triangulo1 = Triangle()\n",
    "        triangulo2 = Triangle().next_to(triangulo1)\n",
    "        square1 = Square()\n",
    "        square2 = Square().next_to(square1,UP)\n",
    "        square3 = Square().move_to([-3,0,1])\n",
    "\n",
    "        # Establece las posiciones iniciales de los objetos\n",
    "        objetos = VGroup(triangulo1, triangulo2)\n",
    "        objetos.next_to(square1, LEFT)\n",
    "        #objetos.add(square1, square2, square3)\n",
    "\n",
    "        # Agrega los objetos a la escena\n",
    "        self.play(Write(objetos))\n",
    "\n",
    "        # Realiza una transición suave (tweening) para transformar los objetos\n",
    "        self.play(Transform(objetos, VGroup(square1, square2, square3)))\n",
    "        self.wait(1)\n"
   ]
  },
  {
   "cell_type": "code",
   "execution_count": 48,
   "metadata": {},
   "outputs": [
    {
     "name": "stderr",
     "output_type": "stream",
     "text": [
      "                                                                                                                       \r"
     ]
    },
    {
     "data": {
      "text/html": [
       "<video src=\"media\\jupyter\\MiEscena@2023-10-19@09-40-52.mp4\" controls autoplay loop style=\"max-width: 60%;\"  >\n",
       "      Your browser does not support the <code>video</code> element.\n",
       "    </video>"
      ],
      "text/plain": [
       "<IPython.core.display.Video object>"
      ]
     },
     "metadata": {},
     "output_type": "display_data"
    }
   ],
   "source": [
    "%%manim -qm -v WARNING MiEscena\n",
    "\n",
    "class MiEscena(Scene):\n",
    "    def construct(self):\n",
    "        # Crea tus imágenes\n",
    "        imagen1 = SVGMobject(\"Food/ant.svg\")\n",
    "        imagen2 = SVGMobject(\"Food/ant.svg\")\n",
    "\n",
    "        # Establece las coordenadas y z-index de las imágenes\n",
    "        imagen1.move_to([-1, 1, 0])\n",
    "        imagen2.move_to([2, 2, 0])\n",
    "        imagen1.z_index = 0  # Z-index inferior\n",
    "        imagen2.z_index = 0 # Z-index inferior\n",
    "\n",
    "        # Crea la línea\n",
    "        linea = Line(start=[-1, 1, -5], end=[2, 2, -5])\n",
    "        linea.z_index = -5  # Z-index inferior\n",
    "        self.wait(1)\n",
    "        # Agrega los objetos a la escena en el orden correcto\n",
    "        self.play(Write(imagen1))\n",
    "        self.wait(1)\n",
    "        self.play(Write(linea))\n",
    "        self.play(Write(imagen2))\n",
    "\n",
    "        # Reproduce la animación\n",
    "        self.wait(1)\n"
   ]
  },
  {
   "cell_type": "code",
   "execution_count": null,
   "metadata": {},
   "outputs": [],
   "source": []
  }
 ],
 "metadata": {
  "kernelspec": {
   "display_name": "Python 3",
   "language": "python",
   "name": "python3"
  },
  "language_info": {
   "codemirror_mode": {
    "name": "ipython",
    "version": 3
   },
   "file_extension": ".py",
   "mimetype": "text/x-python",
   "name": "python",
   "nbconvert_exporter": "python",
   "pygments_lexer": "ipython3",
   "version": "3.7.3"
  }
 },
 "nbformat": 4,
 "nbformat_minor": 5
}
