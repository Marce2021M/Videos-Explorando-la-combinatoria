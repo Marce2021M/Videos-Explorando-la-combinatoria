{
 "cells": [
  {
   "cell_type": "code",
   "execution_count": 1,
   "id": "4da73fa9",
   "metadata": {},
   "outputs": [
    {
     "data": {
      "text/html": [
       "<pre style=\"white-space:pre;overflow-x:auto;line-height:normal;font-family:Menlo,'DejaVu Sans Mono',consolas,'Courier New',monospace\">Manim Community <span style=\"color: #008000; text-decoration-color: #008000\">v0.17.3</span>\n",
       "\n",
       "</pre>\n"
      ],
      "text/plain": [
       "Manim Community \u001b[32mv0.\u001b[0m\u001b[32m17.3\u001b[0m\n",
       "\n"
      ]
     },
     "metadata": {},
     "output_type": "display_data"
    }
   ],
   "source": [
    "from manim import *\n",
    "import networkx as nx\n",
    "import numpy as np\n",
    "import math"
   ]
  },
  {
   "cell_type": "code",
   "execution_count": 2,
   "id": "6002b6c1",
   "metadata": {},
   "outputs": [],
   "source": [
    "def contador_comb(self,arbolNiveles, dire, escala):\n",
    "    i = len(arbolNiveles)\n",
    "    j = 1\n",
    "    for coor in arbolNiveles[i-1]:\n",
    "        num = Integer(number=j).scale(escala)\n",
    "        num.next_to(coor, dire)\n",
    "        self.play(FadeIn(num),run_time=.2)\n",
    "        j += 1\n",
    "    "
   ]
  },
  {
   "cell_type": "code",
   "execution_count": 3,
   "id": "43bf647e",
   "metadata": {},
   "outputs": [],
   "source": [
    "def contador_comb_compl(self,arbolNiveles, dire, escala):\n",
    "    i = len(arbolNiveles)\n",
    "    j = 1\n",
    "    for coor in reversed(arbolNiveles[i - 1]):\n",
    "        num = Integer(number=j).scale(escala)\n",
    "        num.next_to(coor, dire)\n",
    "        self.play(FadeIn(num), run_time=0.2)\n",
    "        j += 1"
   ]
  },
  {
   "cell_type": "code",
   "execution_count": 4,
   "id": "10825072",
   "metadata": {},
   "outputs": [],
   "source": [
    "def contador_comb_tabla(self,tableDec, tipos1, tipos2):\n",
    "    j = 1\n",
    "    angle_in_degrees = 22  # El ángulo deseado en grados\n",
    "    angle_in_radians = math.radians(angle_in_degrees)\n",
    "    x_offset = math.cos(angle_in_radians)\n",
    "    y_offset = math.sin(angle_in_radians)\n",
    "    number = VGroup()\n",
    "    sc = .6\n",
    "    for row_index in range(1, len(tipos1)):\n",
    "        for col_index in range(1, len(tipos2)):\n",
    "            if j > 9:\n",
    "                angle_in_degrees = 26  # El ángulo deseado en grados\n",
    "                angle_in_radians = math.radians(angle_in_degrees)\n",
    "                x_offset = math.cos(angle_in_radians)\n",
    "                y_offset = math.sin(angle_in_radians)\n",
    "                sc = .5\n",
    "            cell = tableDec.get_cell((row_index + 1, col_index + 1))\n",
    "            cell_location = cell.get_center()\n",
    "            num = Integer(number=j).scale(sc)\n",
    "            num.next_to(cell_location,  x_offset * RIGHT + y_offset * UP, buff=1.2)\n",
    "            #self.play(FadeIn(num),run_time=.2)\n",
    "            number.add(num)\n",
    "            j += 1\n",
    "    return number"
   ]
  }
 ],
 "metadata": {
  "kernelspec": {
   "display_name": "Python 3 (ipykernel)",
   "language": "python",
   "name": "python3"
  },
  "language_info": {
   "codemirror_mode": {
    "name": "ipython",
    "version": 3
   },
   "file_extension": ".py",
   "mimetype": "text/x-python",
   "name": "python",
   "nbconvert_exporter": "python",
   "pygments_lexer": "ipython3",
   "version": "3.10.9"
  }
 },
 "nbformat": 4,
 "nbformat_minor": 5
}
