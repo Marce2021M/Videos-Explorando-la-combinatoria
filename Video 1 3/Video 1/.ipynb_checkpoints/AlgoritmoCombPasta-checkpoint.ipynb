{
 "cells": [
  {
   "cell_type": "code",
   "execution_count": 1,
   "metadata": {},
   "outputs": [
    {
     "data": {
      "text/html": [
       "<pre style=\"white-space:pre;overflow-x:auto;line-height:normal;font-family:Menlo,'DejaVu Sans Mono',consolas,'Courier New',monospace\">Manim Community <span style=\"color: #008000; text-decoration-color: #008000\">v0.16.0.post0</span>\n",
       "\n",
       "</pre>\n"
      ],
      "text/plain": [
       "Manim Community \u001b[32mv0.\u001b[0m\u001b[32m16.0\u001b[0m\u001b[32m.post0\u001b[0m\n",
       "\n"
      ]
     },
     "metadata": {},
     "output_type": "display_data"
    }
   ],
   "source": [
    "from manim import *\n",
    "import networkx as nx\n",
    "import numpy as np\n",
    "import copy"
   ]
  },
  {
   "cell_type": "code",
   "execution_count": 2,
   "metadata": {},
   "outputs": [],
   "source": [
    "def imagenes_arbol_complicado():\n",
    "    matriz = [[SVGMobject(\"Food/plate.svg\").scale(1.7), SVGMobject(\"Food/SalsaPomodoro.svg\"), \n",
    "               SVGMobject(\"Food/SalsaParmesano.svg\"), SVGMobject(\"Food/SalsaAjo.svg\"), \n",
    "               SVGMobject(\"Food/SalsaPesto.svg\"), SVGMobject(\"Food/SalsaChampiñon.svg\")],\n",
    "               [SVGMobject(\"Food/espagueti.svg\").scale(1.8).rotate(-1), SVGMobject(\"Food/Platillos/espagueti-pom.svg\").scale(.7),\n",
    "                SVGMobject(\"Food/Platillos/espagueti-par.svg\").scale(.7),\n",
    "                SVGMobject(\"Food/Platillos/espagueti-ajo.svg\").scale(.7), \n",
    "                SVGMobject(\"Food/Platillos/espagueti-pesto.svg\").scale(.7),\n",
    "                SVGMobject(\"Food/Platillos/espagueti-cham.svg\").scale(.7)],\n",
    "               [SVGMobject(\"Food/fusili.svg\").rotate(-.1),SVGMobject(\"Food/Platillos/fusili-pom.svg\").scale(.6),\n",
    "                SVGMobject(\"Food/Platillos/fusili-par.svg\").scale(.6),\n",
    "                SVGMobject(\"Food/Platillos/fusili-ajo.svg\").scale(.6), \n",
    "                SVGMobject(\"Food/Platillos/fusili-pesto.svg\").scale(.6),\n",
    "                SVGMobject(\"Food/Platillos/fusili-cham.svg\").scale(.6)],\n",
    "               [SVGMobject(\"Food/macaroni.svg\").rotate(-.2),SVGMobject(\"Food/Platillos/macaroni-pom.svg\").scale(.7),\n",
    "                SVGMobject(\"Food/Platillos/macaroni-par.svg\").scale(.7),\n",
    "                SVGMobject(\"Food/Platillos/macaroni-ajo.svg\").scale(.7), \n",
    "                SVGMobject(\"Food/Platillos/macaroni-pesto.svg\").scale(.7),\n",
    "                SVGMobject(\"Food/Platillos/macaroni-cham.svg\").scale(.7)],\n",
    "             [SVGMobject(\"Food/salmon.svg\").scale(1.7), SVGMobject(\"Food/SalsaPomodoro.svg\"), \n",
    "              SVGMobject(\"Food/SalsaParmesano.svg\"), SVGMobject(\"Food/SalsaAjo.svg\"), \n",
    "              SVGMobject(\"Food/SalsaPesto.svg\"), SVGMobject(\"Food/SalsaChampiñon.svg\")],\n",
    "               [SVGMobject(\"Food/espagueti.svg\").scale(1.8).rotate(-1), \n",
    "                SVGMobject(\"Food/Platillos/espagueti-pom-salmon.svg\").scale(.7),\n",
    "                SVGMobject(\"Food/Platillos/espagueti-par-salmon.svg\").scale(.7),\n",
    "                SVGMobject(\"Food/Platillos/espagueti-ajo-salmon.svg\").scale(.7), \n",
    "                SVGMobject(\"Food/Platillos/espagueti-pesto-salmon.svg\").scale(.7),\n",
    "                SVGMobject(\"Food/Platillos/espagueti-cham-salmon.svg\").scale(.7)],\n",
    "               [SVGMobject(\"Food/fusili.svg\").rotate(-.1),\n",
    "                SVGMobject(\"Food/Platillos/fusili-pom-salmon.svg\").scale(.6),\n",
    "                SVGMobject(\"Food/Platillos/fusili-par-salmon.svg\").scale(.6),\n",
    "                SVGMobject(\"Food/Platillos/fusili-ajo-salmon.svg\").scale(.6), \n",
    "                SVGMobject(\"Food/Platillos/fusili-pesto-salmon.svg\").scale(.6),\n",
    "                SVGMobject(\"Food/Platillos/fusili-cham-salmon.svg\").scale(.6)],\n",
    "               [SVGMobject(\"Food/macaroni.svg\").rotate(-.2),\n",
    "                SVGMobject(\"Food/Platillos/macaroni-pom-salmon.svg\").scale(.7),\n",
    "                SVGMobject(\"Food/Platillos/macaroni-par-salmon.svg\").scale(.7),\n",
    "                SVGMobject(\"Food/Platillos/macaroni-ajo-salmon.svg\").scale(.7), \n",
    "                SVGMobject(\"Food/Platillos/macaroni-pesto-salmon.svg\").scale(.7),\n",
    "                SVGMobject(\"Food/Platillos/macaroni-cham-salmon.svg\").scale(.7)],\n",
    "             [SVGMobject(\"Food/plate.svg\").scale(1.7), SVGMobject(\"Food/SalsaPomodoro.svg\"), \n",
    "              SVGMobject(\"Food/SalsaParmesano.svg\"), SVGMobject(\"Food/SalsaAjo.svg\"), \n",
    "              SVGMobject(\"Food/SalsaPesto.svg\"), SVGMobject(\"Food/SalsaChampiñon.svg\")],\n",
    "               [SVGMobject(\"Food/espagueti.svg\").scale(1.8).rotate(-1), \n",
    "                SVGMobject(\"Food/Platillos/espagueti-pom-carne.svg\").scale(.7),\n",
    "                SVGMobject(\"Food/Platillos/espagueti-par-carne.svg\").scale(.7),\n",
    "                SVGMobject(\"Food/Platillos/espagueti-ajo-carne.svg\").scale(.7), \n",
    "                SVGMobject(\"Food/Platillos/espagueti-pesto-carne.svg\").scale(.7),\n",
    "                SVGMobject(\"Food/Platillos/espagueti-cham-carne.svg\").scale(.7)],\n",
    "               [SVGMobject(\"Food/fusili.svg\").rotate(-.1),\n",
    "                SVGMobject(\"Food/Platillos/fusili-pom-carne.svg\").scale(.6),\n",
    "                SVGMobject(\"Food/Platillos/fusili-par-carne.svg\").scale(.6),\n",
    "                SVGMobject(\"Food/Platillos/fusili-ajo-carne.svg\").scale(.6), \n",
    "                SVGMobject(\"Food/Platillos/fusili-pesto-carne.svg\").scale(.6),\n",
    "                SVGMobject(\"Food/Platillos/fusili-cham-carne.svg\").scale(.6)],\n",
    "               [SVGMobject(\"Food/macaroni.svg\").rotate(-.2),\n",
    "                SVGMobject(\"Food/Platillos/macaroni-pom-carne.svg\").scale(.7),\n",
    "                SVGMobject(\"Food/Platillos/macaroni-par-carne.svg\").scale(.7),\n",
    "                SVGMobject(\"Food/Platillos/macaroni-ajo-carne.svg\").scale(.7), \n",
    "                SVGMobject(\"Food/Platillos/macaroni-pesto-carne.svg\").scale(.7),\n",
    "                SVGMobject(\"Food/Platillos/macaroni-cham-carne.svg\").scale(.7)]]\n",
    "    return matriz\n",
    "\n"
   ]
  },
  {
   "cell_type": "code",
   "execution_count": 9,
   "metadata": {},
   "outputs": [],
   "source": [
    "def combPasta(matrizCompleta,tipos1, tipos2, tipos3):\n",
    "    submatriz = [[[matrizCompleta[i][j][k] for k in tipos2] for j in tipos1] for i in tipos3]\n",
    "\n",
    "    tipos2 = matrizCompleta[0][0][1:]\n",
    "\n",
    "    tipos1 = [matrizCompleta[0][i][0] for i in range(1, len(matrizCompleta[0]))]\n",
    "\n",
    "    tipos3 = [matrizCompleta[i][0][0] for i in range(1, len(matrizCompleta))]\n",
    "\n",
    "\n",
    "    combinaciones = [matrizCompleta[0][0][0]]\n",
    "    combinaciones.extend(tipos1)\n",
    "\n",
    "    for i in range(0, len(tipos1)):\n",
    "        copias_tipos2 =copy.deepcopy(tipos2)\n",
    "        combinaciones.extend(copias_tipos2)\n",
    "\n",
    "    for i in range(0, len(tipos1)*len(tipos2)):\n",
    "        copias_tipos3 =copy.deepcopy(tipos3)\n",
    "        combinaciones.extend(copias_tipos3)\n",
    "\n",
    "    for j in range(0,len(tipos3)):\n",
    "        for i in range(0, len(tipos1)):\n",
    "            copias_tipos3 =copy.deepcopy(matrizCompleta[j+1][(i+1)][1:])\n",
    "            combinaciones.extend(copias_tipos3)\n",
    "    return combinaciones"
   ]
  },
  {
   "cell_type": "code",
   "execution_count": 6,
   "metadata": {},
   "outputs": [],
   "source": [
    "def imagenes_arbol_complicado():\n",
    "    matriz = [[SVGMobject(\"Food/plate.svg\").scale(1.7), SVGMobject(\"Food/SalsaPomodoro.svg\"), \n",
    "               SVGMobject(\"Food/SalsaParmesano.svg\"), SVGMobject(\"Food/SalsaAjo.svg\"), \n",
    "               SVGMobject(\"Food/SalsaPesto.svg\"), SVGMobject(\"Food/SalsaChampiñon.svg\")],\n",
    "               [SVGMobject(\"Food/espagueti.svg\").scale(1.8).rotate(-1), SVGMobject(\"Food/Platillos/espagueti-pom.svg\").scale(.7),\n",
    "                SVGMobject(\"Food/Platillos/espagueti-par.svg\").scale(.7),\n",
    "                SVGMobject(\"Food/Platillos/espagueti-ajo.svg\").scale(.7), \n",
    "                SVGMobject(\"Food/Platillos/espagueti-pesto.svg\").scale(.7),\n",
    "                SVGMobject(\"Food/Platillos/espagueti-cham.svg\").scale(.7)],\n",
    "               [SVGMobject(\"Food/fusili.svg\").rotate(-.1),SVGMobject(\"Food/Platillos/fusili-pom.svg\").scale(.6),\n",
    "                SVGMobject(\"Food/Platillos/fusili-par.svg\").scale(.6),\n",
    "                SVGMobject(\"Food/Platillos/fusili-ajo.svg\").scale(.6), \n",
    "                SVGMobject(\"Food/Platillos/fusili-pesto.svg\").scale(.6),\n",
    "                SVGMobject(\"Food/Platillos/fusili-cham.svg\").scale(.6)],\n",
    "             [SVGMobject(\"Food/salmon.svg\").scale(1.7), SVGMobject(\"Food/SalsaPomodoro.svg\"), \n",
    "              SVGMobject(\"Food/SalsaParmesano.svg\"), SVGMobject(\"Food/SalsaAjo.svg\"), \n",
    "              SVGMobject(\"Food/SalsaPesto.svg\"), SVGMobject(\"Food/SalsaChampiñon.svg\")],\n",
    "               [SVGMobject(\"Food/espagueti.svg\").scale(1.8).rotate(-1), \n",
    "                SVGMobject(\"Food/Platillos/espagueti-pom-salmon.svg\").scale(.7),\n",
    "                SVGMobject(\"Food/Platillos/espagueti-par-salmon.svg\").scale(.7),\n",
    "                SVGMobject(\"Food/Platillos/espagueti-ajo-salmon.svg\").scale(.7), \n",
    "                SVGMobject(\"Food/Platillos/espagueti-pesto-salmon.svg\").scale(.7),\n",
    "                SVGMobject(\"Food/Platillos/espagueti-cham-salmon.svg\").scale(.7)],\n",
    "               [SVGMobject(\"Food/fusili.svg\").rotate(-.1),\n",
    "                SVGMobject(\"Food/Platillos/fusili-pom-salmon.svg\").scale(.6),\n",
    "                SVGMobject(\"Food/Platillos/fusili-par-salmon.svg\").scale(.6),\n",
    "                SVGMobject(\"Food/Platillos/fusili-ajo-salmon.svg\").scale(.6), \n",
    "                SVGMobject(\"Food/Platillos/fusili-pesto-salmon.svg\").scale(.6),\n",
    "                SVGMobject(\"Food/Platillos/fusili-cham-salmon.svg\").scale(.6)],\n",
    "             [SVGMobject(\"Food/plate.svg\").scale(1.7), SVGMobject(\"Food/SalsaPomodoro.svg\"), \n",
    "              SVGMobject(\"Food/SalsaParmesano.svg\"), SVGMobject(\"Food/SalsaAjo.svg\"), \n",
    "              SVGMobject(\"Food/SalsaPesto.svg\"), SVGMobject(\"Food/SalsaChampiñon.svg\")],\n",
    "               [SVGMobject(\"Food/espagueti.svg\").scale(1.8).rotate(-1), \n",
    "                SVGMobject(\"Food/Platillos/espagueti-pom-carne.svg\").scale(.7),\n",
    "                SVGMobject(\"Food/Platillos/espagueti-par-carne.svg\").scale(.7),\n",
    "                SVGMobject(\"Food/Platillos/espagueti-ajo-carne.svg\").scale(.7), \n",
    "                SVGMobject(\"Food/Platillos/espagueti-pesto-carne.svg\").scale(.7),\n",
    "                SVGMobject(\"Food/Platillos/espagueti-cham-carne.svg\").scale(.7)],\n",
    "               [SVGMobject(\"Food/fusili.svg\").rotate(-.1),\n",
    "                SVGMobject(\"Food/Platillos/fusili-pom-carne.svg\").scale(.6),\n",
    "                SVGMobject(\"Food/Platillos/fusili-par-carne.svg\").scale(.6),\n",
    "                SVGMobject(\"Food/Platillos/fusili-ajo-carne.svg\").scale(.6), \n",
    "                SVGMobject(\"Food/Platillos/fusili-pesto-carne.svg\").scale(.6),\n",
    "                SVGMobject(\"Food/Platillos/fusili-cham-carne.svg\").scale(.6)],]\n",
    "    return matriz"
   ]
  },
  {
   "cell_type": "code",
   "execution_count": 10,
   "metadata": {},
   "outputs": [
    {
     "name": "stdout",
     "output_type": "stream",
     "text": [
      "[1, 6, 11, 2, 3, 4, 5, 100, 2, 3, 4, 5, 100, 16, 31, 16, 31, 16, 31, 16, 31, 16, 31, 16, 31, 16, 31, 16, 31, 16, 31, 16, 31, 22, 23, 24, 25, 104, 27, 28, 29, 30, 105, 37, 38, 39, 40, 107, 42, 43, 44, 45, 108]\n"
     ]
    }
   ],
   "source": [
    "matrizCompleta = [\n",
    "    [  # Capa 1 (x = 0)\n",
    "        [1, 2,3,4,5,100],  # Fila 1, Columna 1\n",
    "        [6,7,8,9,10,101],  # Fila 1, Columna 2\n",
    "        [11,12,13,14,15,102],  # Fila 1, Columna 3\n",
    "    ],\n",
    "    [  # Capa 2 (x = 1)\n",
    "        [16,17,18,19,20,103],  # Fila 1, Columna 1\n",
    "        [21,22,23,24,25,104],  # Fila 1, Columna 2\n",
    "        [26,27,28,29,30,105],  # Fila 1, Columna 3\n",
    "    ],\n",
    "    [  # Capa 2 (x = 1)\n",
    "        [31, 32,33,34,35,106],  # Fila 1, Columna 1\n",
    "        [36,37,38,39,40,107],  # Fila 1, Columna 2\n",
    "        [41,42,43,44,45,108],\n",
    "    ]\n",
    "]\n",
    "\n",
    "tipos1 = [0,1,2]\n",
    "tipos2 = [0,1,2,3,4]\n",
    "tipos3 = [0,1,2]\n",
    "\n",
    "dec1 = len(tipos1) - 1\n",
    "dec2 = len(tipos2) - 1\n",
    "dec3 = len(tipos3) - 1\n",
    "valores = [dec1,dec2,dec3,1]\n",
    "\n",
    "#print(coordenadas)\n",
    "combinaciones = combPasta(matrizCompleta,tipos1, tipos2, tipos3)\n",
    "    \n",
    "print(combinaciones)"
   ]
  },
  {
   "cell_type": "code",
   "execution_count": null,
   "metadata": {},
   "outputs": [],
   "source": []
  },
  {
   "cell_type": "code",
   "execution_count": null,
   "metadata": {},
   "outputs": [],
   "source": []
  },
  {
   "cell_type": "code",
   "execution_count": null,
   "metadata": {},
   "outputs": [],
   "source": []
  }
 ],
 "metadata": {
  "kernelspec": {
   "display_name": "Python 3",
   "language": "python",
   "name": "python3"
  },
  "language_info": {
   "codemirror_mode": {
    "name": "ipython",
    "version": 3
   },
   "file_extension": ".py",
   "mimetype": "text/x-python",
   "name": "python",
   "nbconvert_exporter": "python",
   "pygments_lexer": "ipython3",
   "version": "3.7.3"
  }
 },
 "nbformat": 4,
 "nbformat_minor": 5
}
