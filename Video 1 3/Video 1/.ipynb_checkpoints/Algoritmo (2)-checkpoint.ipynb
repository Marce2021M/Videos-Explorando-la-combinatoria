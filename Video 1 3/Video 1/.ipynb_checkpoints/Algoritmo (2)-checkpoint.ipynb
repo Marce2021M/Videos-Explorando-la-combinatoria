{
 "cells": [
  {
   "cell_type": "code",
   "execution_count": 77,
   "metadata": {},
   "outputs": [],
   "source": [
    "from manim import *\n",
    "import networkx as nx\n",
    "import numpy as np"
   ]
  },
  {
   "cell_type": "code",
   "execution_count": 135,
   "metadata": {},
   "outputs": [],
   "source": [
    "def distribuir_puntos_uniformemente(n, dist):\n",
    "    puntos = []\n",
    "    if n % 2 == 0:  # Si n es par, se divide niformemente a ambos lados de 0.\n",
    "        cant_puntos_lado = n // 2\n",
    "        puntos_lado = [dist * (i - 1/2) for i in range(1, cant_puntos_lado + 1)]\n",
    "    else:  # Si n es impar, se coloca un punto en 0 y se divide el resto uniformemente.\n",
    "        cant_puntos_lado = (n - 1) // 2\n",
    "        puntos_lado = [dist * i for i in range(1, cant_puntos_lado + 1)]\n",
    "        puntos += [0]\n",
    "    \n",
    "    # Distribuye puntos uniformemente arriba y abajo de 0 con una distancia de 0.5.\n",
    "    \n",
    "    puntos.extend(puntos_lado)\n",
    "    puntos.extend(-1* np.array(puntos_lado))\n",
    "\n",
    "    return sorted(puntos)"
   ]
  },
  {
   "cell_type": "code",
   "execution_count": 177,
   "metadata": {},
   "outputs": [],
   "source": [
    "def distribucion_vertical(arreglo, combTotales, dist = .8):\n",
    "    pisos = len(arreglo)\n",
    "    x = pisos * 2 -6 # eje es x\n",
    "    puntos_ultimo_renglon = distribuir_puntos_uniformemente(combTotales, dist)\n",
    "    puntosAntes = puntos_ultimo_renglon\n",
    "    puntos = [(x, valor, 0) for valor in puntosAntes]\n",
    "    for dec in reversed(arreglo):\n",
    "        print(x)\n",
    "        puntosR = []\n",
    "        coor_ren = []\n",
    "        x -= 2\n",
    "        \n",
    "        for i in range(0, len(puntosAntes), dec):\n",
    "            valor_y = round((puntosAntes[i] + puntosAntes[i + dec - 1])/2,2)\n",
    "            puntosR += [valor_y]\n",
    "            coor_ren.append((x,valor_y, 0))\n",
    "\n",
    "        puntos = coor_ren + puntos\n",
    "        puntosAntes = puntosR\n",
    "\n",
    "    return puntos\n"
   ]
  },
  {
   "cell_type": "code",
   "execution_count": 178,
   "metadata": {},
   "outputs": [],
   "source": [
    "def distribucion_horizontal(arreglo, combTotales, dist = None):\n",
    "    if dist is None:\n",
    "        dist = 12 / combTotales\n",
    "    pisos = len(arreglo)\n",
    "    distPisos = 1.5 if pisos <= 4 else 1\n",
    "    y = 3 - pisos * distPisos # eje es y\n",
    "    puntos_ultimo_renglon = distribuir_puntos_uniformemente(combTotales, dist)\n",
    "    puntosAntes = puntos_ultimo_renglon\n",
    "    puntos = [(valor, y, 0) for valor in puntosAntes]\n",
    "    aristas = []\n",
    "    for dec in reversed(arreglo):\n",
    "        puntosR = []\n",
    "        coor_ren = []\n",
    "        y += distPisos\n",
    "        for i in range(0, len(puntosAntes), dec):\n",
    "            valor_x = round((puntosAntes[i] + puntosAntes[i + dec - 1])/2,2)\n",
    "            puntosR += [valor_x]\n",
    "            coor_ren.append((valor_x,y, 0))\n",
    "            for j in range(i , i+ dec):\n",
    "                par = [(valor_x,y, 0), (puntosAntes[j], y - distPisos,0)]\n",
    "                aristas.append(par)\n",
    "\n",
    "        puntos = coor_ren + puntos\n",
    "        puntosAntes = puntosR\n",
    "    \n",
    "    \n",
    "    print(aristas)\n",
    "\n",
    "    return puntos\n"
   ]
  },
  {
   "cell_type": "code",
   "execution_count": 179,
   "metadata": {},
   "outputs": [],
   "source": [
    "def multiplicar_valores(arreglo, dist = .8):\n",
    "    if len(arreglo) == 0:\n",
    "        return 0  # Si el arreglo está vacío, el resultado es 0.\n",
    "    else:\n",
    "        combTotales = np.prod(arreglo)\n",
    "        if combTotales <= 10: # vertical\n",
    "            # dist = .8\n",
    "            puntos = distribucion_vertical(arreglo, combTotales, dist)\n",
    "\n",
    "        else:\n",
    "            puntos = distribucion_horizontal(arreglo, combTotales, dist)\n",
    "        \n",
    "        \n",
    "        return puntos\n"
   ]
  },
  {
   "cell_type": "code",
   "execution_count": 182,
   "metadata": {},
   "outputs": [
    {
     "name": "stdout",
     "output_type": "stream",
     "text": [
      "[[(-5.6, 0.0, 0), (-5.6000000000000005, -1.5, 0)], [(-4.8, 0.0, 0), (-4.800000000000001, -1.5, 0)], [(-4.0, 0.0, 0), (-4.0, -1.5, 0)], [(-3.2, 0.0, 0), (-3.2, -1.5, 0)], [(-2.4, 0.0, 0), (-2.4000000000000004, -1.5, 0)], [(-1.6, 0.0, 0), (-1.6, -1.5, 0)], [(-0.8, 0.0, 0), (-0.8, -1.5, 0)], [(0.0, 0.0, 0), (0, -1.5, 0)], [(0.8, 0.0, 0), (0.8, -1.5, 0)], [(1.6, 0.0, 0), (1.6, -1.5, 0)], [(2.4, 0.0, 0), (2.4000000000000004, -1.5, 0)], [(3.2, 0.0, 0), (3.2, -1.5, 0)], [(4.0, 0.0, 0), (4.0, -1.5, 0)], [(4.8, 0.0, 0), (4.800000000000001, -1.5, 0)], [(5.6, 0.0, 0), (5.6000000000000005, -1.5, 0)], [(-4.0, 1.5, 0), (-5.6, 0.0, 0)], [(-4.0, 1.5, 0), (-4.8, 0.0, 0)], [(-4.0, 1.5, 0), (-4.0, 0.0, 0)], [(-4.0, 1.5, 0), (-3.2, 0.0, 0)], [(-4.0, 1.5, 0), (-2.4, 0.0, 0)], [(0.0, 1.5, 0), (-1.6, 0.0, 0)], [(0.0, 1.5, 0), (-0.8, 0.0, 0)], [(0.0, 1.5, 0), (0.0, 0.0, 0)], [(0.0, 1.5, 0), (0.8, 0.0, 0)], [(0.0, 1.5, 0), (1.6, 0.0, 0)], [(4.0, 1.5, 0), (2.4, 0.0, 0)], [(4.0, 1.5, 0), (3.2, 0.0, 0)], [(4.0, 1.5, 0), (4.0, 0.0, 0)], [(4.0, 1.5, 0), (4.8, 0.0, 0)], [(4.0, 1.5, 0), (5.6, 0.0, 0)], [(0.0, 3.0, 0), (-4.0, 1.5, 0)], [(0.0, 3.0, 0), (0.0, 1.5, 0)], [(0.0, 3.0, 0), (4.0, 1.5, 0)]]\n"
     ]
    },
    {
     "data": {
      "image/png": "[encoded data removed]",
      "text/plain": [
       "<IPython.core.display.Image object>"
      ]
     },
     "metadata": {},
     "output_type": "display_data"
    }
   ],
   "source": [
    "%%manim -qm -v WARNING AddDots\n",
    "\n",
    "class AddDots(Scene):\n",
    "    def construct(self):\n",
    "        # Tu arreglo de coordenadas\n",
    "        valores = [3,5,1]\n",
    "        coordenadas = multiplicar_valores(valores)\n",
    "        # Crea una instancia de Dot para cada coordenada y agrégalos a la escena\n",
    "        dots = VGroup(*[Dot(point) for point in coordenadas])\n",
    "        edges = VGroup(*[Line(point[0], point[1]) for point in coordenadas])\n",
    "        self.add(dots, edges)\n",
    "        #print (coordenadas)"
   ]
  },
  {
   "cell_type": "code",
   "execution_count": null,
   "metadata": {},
   "outputs": [],
   "source": []
  },
  {
   "cell_type": "code",
   "execution_count": 89,
   "metadata": {},
   "outputs": [],
   "source": [
    "mi_lista = [2, 3, 4]\n",
    "mi_lista.insert(0, 1)"
   ]
  },
  {
   "cell_type": "code",
   "execution_count": 10,
   "metadata": {},
   "outputs": [
    {
     "name": "stdout",
     "output_type": "stream",
     "text": [
      "[(-5, 0.0, 0), (-3, -2.16, 0), (-3, 0.0, 0), (-3, 2.16, 0), (-1, -2.97, 0), (-1, -2.43, 0), (-1, -1.9, 0), (-1, -1.35, 0), (-1, -0.81, 0), (-1, -0.28, 0), (-1, 0.28, 0), (-1, 0.81, 0), (-1, 1.35, 0), (-1, 1.9, 0), (-1, 2.43, 0), (-1, 2.97, 0), (1, -3.11, 0), (1, -2.84, 0), (1, -2.57, 0), (1, -2.3, 0), (1, -2.03, 0), (1, -1.76, 0), (1, -1.49, 0), (1, -1.22, 0), (1, -0.95, 0), (1, -0.68, 0), (1, -0.41, 0), (1, -0.14, 0), (1, 0.14, 0), (1, 0.41, 0), (1, 0.68, 0), (1, 0.95, 0), (1, 1.22, 0), (1, 1.49, 0), (1, 1.76, 0), (1, 2.03, 0), (1, 2.3, 0), (1, 2.57, 0), (1, 2.84, 0), (1, 3.11, 0)]\n"
     ]
    }
   ],
   "source": [
    "puntosAntes =  [-3.11, -2.84, -2.57, -2.3, -2.03, -1.76, -1.49, -1.22, -0.95, -0.68, -0.41, -0.14, 0.14, 0.41, 0.68, 0.95, 1.22, 1.49, 1.76, 2.03, 2.3, 2.57, 2.84, 3.11]\n",
    "arreglo = [3,4,2]\n",
    "\n",
    "pisos = len(arreglo)\n",
    "x = pisos * 2 - 5\n",
    "puntos = [(x, valor, 0) for valor in puntosAntes]\n",
    "for dec in reversed(arreglo):\n",
    "    puntosR = []\n",
    "    coor_ren = []\n",
    "    x -= 2\n",
    "    for i in range(0, len(puntosAntes), dec):\n",
    "        valor_y = round((puntosAntes[i] + puntosAntes[i + dec - 1])/2,2)\n",
    "        puntosR += [valor_y]\n",
    "        coor_ren.append((x,valor_y, 0))\n",
    "        \n",
    "    puntos = coor_ren + puntos\n",
    "    puntosAntes = puntosR\n",
    "    \n",
    "print(puntos)"
   ]
  },
  {
   "cell_type": "code",
   "execution_count": null,
   "metadata": {},
   "outputs": [],
   "source": []
  }
 ],
 "metadata": {
  "kernelspec": {
   "display_name": "Python 3",
   "language": "python",
   "name": "python3"
  },
  "language_info": {
   "codemirror_mode": {
    "name": "ipython",
    "version": 3
   },
   "file_extension": ".py",
   "mimetype": "text/x-python",
   "name": "python",
   "nbconvert_exporter": "python",
   "pygments_lexer": "ipython3",
   "version": "3.7.3"
  }
 },
 "nbformat": 4,
 "nbformat_minor": 5
}
